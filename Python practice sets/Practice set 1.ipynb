{
 "cells": [
  {
   "cell_type": "markdown",
   "id": "1b9a3790-cd0c-4379-b215-b9f66b609126",
   "metadata": {},
   "source": [
    "## Q1. Write a Python program that defines a function called \"add_numbers\" that takes two arguments (i.e.,numbers) and returns their sum. Within the function, add the two numbers together and return the resultusing the return statement. Call the function with the values 5 and 6, and print out the returned result.This will result in the addition of 5 and 6, with the output of the program being the sum of these two numbers."
   ]
  },
  {
   "cell_type": "code",
   "execution_count": 1,
   "id": "e20c75fb-b476-46b8-b801-8ffbc5e198ff",
   "metadata": {},
   "outputs": [
    {
     "name": "stdout",
     "output_type": "stream",
     "text": [
      "The sum of 5 and 6 is: 11\n"
     ]
    }
   ],
   "source": [
    "def add_numbers(num1, num2):\n",
    "    \"\"\"Function to add two numbers together\"\"\"\n",
    "    return num1 + num2\n",
    "\n",
    "# Call the function with values 5 and 6\n",
    "result = add_numbers(5, 6)\n",
    "\n",
    "# Print out the returned result\n",
    "print(\"The sum of 5 and 6 is:\", result)\n"
   ]
  },
  {
   "cell_type": "markdown",
   "id": "bdcd2b83-9165-4502-b8f8-16e658cceaf5",
   "metadata": {},
   "source": [
    "## Q2. Write a Python program that calculates the square root of a given number using a built-in function.Specifically, the program should take an integer or float input from the user, calculate its square rootusing the 'sqrt()' function from the 'math' module, and print out the result to the user. As an example,calculate the square root of the number 625 using this program, which should output the value of 25."
   ]
  },
  {
   "cell_type": "code",
   "execution_count": 3,
   "id": "b1041456-7db5-4a2d-92c1-aff6d77ef154",
   "metadata": {},
   "outputs": [
    {
     "name": "stdin",
     "output_type": "stream",
     "text": [
      "Enter a number:  625\n"
     ]
    },
    {
     "name": "stdout",
     "output_type": "stream",
     "text": [
      "The square root of 625.0 is 25.0\n"
     ]
    }
   ],
   "source": [
    "import math\n",
    "\n",
    "def main():\n",
    "    # Take user input\n",
    "    num = float(input(\"Enter a number: \"))\n",
    "    \n",
    "    # Calculate square root\n",
    "    square_root = math.sqrt(num)\n",
    "    \n",
    "    # Print the result\n",
    "    print(f\"The square root of {num} is {square_root}\")\n",
    "\n",
    "if __name__ == \"__main__\":\n",
    "    main()\n"
   ]
  },
  {
   "cell_type": "markdown",
   "id": "5553def4-adf5-4f55-8769-359711a528bb",
   "metadata": {},
   "source": [
    "\n",
    "Certainly! Here are the important points about if __name__ == \"__main__\": in a concise form:\n",
    "\n",
    "- Purpose: It's used to check if the Python script is being run directly by the interpreter.\n",
    "\n",
    "- Special Variable: __name__ is automatically set by the interpreter.\n",
    "\n",
    "- Comparison: It compares the value of __name__ to \"__main__\".\n",
    "\n",
    "- Execution Control: Code inside the block runs only if the script is the main program.\n",
    "\n",
    "- **Prevents Unintended Execution**: Ensures code inside the block doesn't execute when imported as a module.\n",
    "\n",
    "- Modularity: Promotes modularity by separating main program logic from reusable components.\n",
    "\n",
    "- Testing: Facilitates testing by allowing import of functions/classes without executing main logic.\n",
    "\n",
    "- Readability: Enhances code clarity and maintainability.\n",
    "\n",
    "Remembering these points will help you understand and utilize if __name__ == \"__main__\": effectively in your Python scripts."
   ]
  },
  {
   "cell_type": "markdown",
   "id": "a2916e57-2461-4688-9658-b761292ec2b9",
   "metadata": {},
   "source": [
    "## Q3.Write a program that prints all prime numbers between 0 to 50."
   ]
  },
  {
   "cell_type": "code",
   "execution_count": 4,
   "id": "ea031e3e-ae0a-4461-811a-102f7b50f8ce",
   "metadata": {},
   "outputs": [
    {
     "name": "stdin",
     "output_type": "stream",
     "text": [
      "Enter the lower limit: 2\n",
      "Enter the upper limit: 50\n"
     ]
    },
    {
     "name": "stdout",
     "output_type": "stream",
     "text": [
      "2 3 5 7 11 13 17 19 23 29 31 37 41 43 47 "
     ]
    }
   ],
   "source": [
    "lower = int(input(\"Enter the lower limit:\" ))\n",
    "upper = int(input(\"Enter the upper limit:\" ))\n",
    "\n",
    "for num in range(lower , upper+1):\n",
    "    if num>1:\n",
    "        for i in range(2 , int(num**0.5)+1):\n",
    "            if num%i==0:\n",
    "                break\n",
    "                \n",
    "        else:\n",
    "            print(num , end = \" \")\n",
    "\n"
   ]
  },
  {
   "cell_type": "markdown",
   "id": "c56b4496-24c1-4b29-b2a9-b844fbe35ad5",
   "metadata": {},
   "source": [
    "# why we use square root of number means(2, int(num**0.5)+1) not till num "
   ]
  },
  {
   "cell_type": "markdown",
   "id": "68c4477d-12c6-43da-ad53-954b1b302e7a",
   "metadata": {},
   "source": [
    "Consider the number 25. We want to determine if it's a prime number.\n",
    "\n",
    "Traditional Approach (Without Using Square Root):\n",
    "\n",
    "We would typically check divisibility of 25 by all numbers from 2 to 24.\n",
    "But, let's think about the factors of 25: 1, 5, and 25. The factors 1 and 25 aren't helpful for checking primality.\n",
    "So, when we're looking for factors, we only need to check numbers from 2 to 5, because \n",
    "5\n",
    "×\n",
    "5\n",
    "=\n",
    "25\n",
    "5×5=25.\n",
    "Using the Square Root:\n",
    "\n",
    "Instead of checking all numbers up to 24, we can use the square root of 25, which is 5.\n",
    "This means we only need to check divisibility by numbers up to 5.\n",
    "If we don't find any factors up to 5, we won't find any beyond 5 either, because factors come in pairs: one smaller than the square root, and one larger.\n",
    "So, if 25 is not divisible by any number up to 5, it's not divisible by any number beyond 5 either.\n",
    "Therefore, 25 is a prime number.\n",
    "Conclusion:\n",
    "By checking for factors only up to the square root of the number, we save time and computational effort. This optimization works because if a number has a factor larger than its square root, it must also have a corresponding factor smaller than its square root. This logic helps us efficiently determine whether a number is prime or not.\n",
    "\n",
    "- **In Summary: it means N = 25 ke factor hote hai 5*5 so jab hum 2 se 24 tak iterate karte hain toh year 5 pe hi 0 de deta hai it means iske aage cheack karne ki koi jarurat nhi hai kyoki hume 5 pe hi pata chal jata hai ki yeah prime num nhi hai isi tarah har number square root se divisble nhi honge toh uske baad bhi koi change nhi hai ki vo divisible ho isliye hum square root pe hi rook jaate hain isse iteration bhi kum ho jata hai**\n"
   ]
  },
  {
   "cell_type": "markdown",
   "id": "266e8bf5-dcae-4eb5-a6be-6ea7b24a1dd8",
   "metadata": {},
   "source": [
    "## Q4.How can we swap the values of three variables (let's say a, b, and c) without using a fourth variable?For example, if we have a=5, b=8, and c=9, how can we obtain a=9, b=5, and c=8? The challenge is toperform this operation without using an additional variable to store any of the values during the swapping process."
   ]
  },
  {
   "cell_type": "code",
   "execution_count": 5,
   "id": "c7d2ccf3-24ea-4e06-a17b-010e8a1dc5fa",
   "metadata": {},
   "outputs": [
    {
     "name": "stdout",
     "output_type": "stream",
     "text": [
      "Swapped values:\n",
      "a = 9\n",
      "b = 5\n",
      "c = 8\n"
     ]
    }
   ],
   "source": [
    "a = 5\n",
    "b = 8\n",
    "c = 9\n",
    "\n",
    "a = a + b + c\n",
    "b = a - b - c\n",
    "c = a - b - c\n",
    "a = a - b - c\n",
    "\n",
    "print(\"Swapped values:\")\n",
    "print(\"a =\", a)  \n",
    "print(\"b =\", b)  \n",
    "print(\"c =\", c) \n",
    "\n"
   ]
  },
  {
   "cell_type": "markdown",
   "id": "aaae8247-9b78-4c6c-a16b-5afdc5325706",
   "metadata": {},
   "source": [
    "## Q5. Can you write a program that determines the nature of a given number (in this case, 87) as being positive, negative, or zero? The program should be designed to take the number as input and perform the necessary calculations to determine if the number is positive (i.e., greater than zero), negative (i.e., less than zero), or zero (i.e., equal to zero). The output of the program should indicate which of these three categories the given number falls into"
   ]
  },
  {
   "cell_type": "code",
   "execution_count": 7,
   "id": "08685351-6ad1-4493-a8d7-6101f8bfe50f",
   "metadata": {},
   "outputs": [
    {
     "name": "stdin",
     "output_type": "stream",
     "text": [
      "Enter the number: 45\n"
     ]
    },
    {
     "ename": "NameError",
     "evalue": "name 'positive' is not defined",
     "output_type": "error",
     "traceback": [
      "\u001b[0;31m---------------------------------------------------------------------------\u001b[0m",
      "\u001b[0;31mNameError\u001b[0m                                 Traceback (most recent call last)",
      "Cell \u001b[0;32mIn[7], line 11\u001b[0m\n\u001b[1;32m      7\u001b[0m         \u001b[38;5;28;01mreturn\u001b[39;00m zero\n\u001b[1;32m      9\u001b[0m num \u001b[38;5;241m=\u001b[39m \u001b[38;5;28mfloat\u001b[39m(\u001b[38;5;28minput\u001b[39m(\u001b[38;5;124m\"\u001b[39m\u001b[38;5;124mEnter the number:\u001b[39m\u001b[38;5;124m\"\u001b[39m))\n\u001b[0;32m---> 11\u001b[0m nature \u001b[38;5;241m=\u001b[39m \u001b[43mdetermine_num_type\u001b[49m\u001b[43m(\u001b[49m\u001b[43mnum\u001b[49m\u001b[43m)\u001b[49m\n\u001b[1;32m     13\u001b[0m \u001b[38;5;28mprint\u001b[39m(\u001b[38;5;124m\"\u001b[39m\u001b[38;5;124mThe number is \u001b[39m\u001b[38;5;124m\"\u001b[39m, nature)\n",
      "Cell \u001b[0;32mIn[7], line 3\u001b[0m, in \u001b[0;36mdetermine_num_type\u001b[0;34m(num)\u001b[0m\n\u001b[1;32m      1\u001b[0m \u001b[38;5;28;01mdef\u001b[39;00m \u001b[38;5;21mdetermine_num_type\u001b[39m(num):\n\u001b[1;32m      2\u001b[0m     \u001b[38;5;28;01mif\u001b[39;00m num \u001b[38;5;241m>\u001b[39m \u001b[38;5;241m0\u001b[39m :\n\u001b[0;32m----> 3\u001b[0m         \u001b[38;5;28;01mreturn\u001b[39;00m \u001b[43mpositive\u001b[49m \u001b[38;5;66;03m# see not using inverted comma with return statement for integer can give such error\u001b[39;00m\n\u001b[1;32m      4\u001b[0m     \u001b[38;5;28;01melif\u001b[39;00m num \u001b[38;5;241m<\u001b[39m \u001b[38;5;241m0\u001b[39m:\n\u001b[1;32m      5\u001b[0m         \u001b[38;5;28;01mreturn\u001b[39;00m negative\n",
      "\u001b[0;31mNameError\u001b[0m: name 'positive' is not defined"
     ]
    }
   ],
   "source": [
    "def determine_num_type(num):\n",
    "    if num > 0 :\n",
    "        return positive # see not using inverted comma with return statement for integer can give such error\n",
    "    elif num < 0:\n",
    "        return negative\n",
    "    else :\n",
    "        return zero\n",
    "    \n",
    "num = float(input(\"Enter the number:\"))\n",
    "\n",
    "nature = determine_num_type(num)\n",
    "\n",
    "print(\"The number is \", nature)"
   ]
  },
  {
   "cell_type": "code",
   "execution_count": 8,
   "id": "68b08b20-34da-4e1e-a488-cce94382f8bb",
   "metadata": {},
   "outputs": [
    {
     "name": "stdin",
     "output_type": "stream",
     "text": [
      "Enter a number:  87\n"
     ]
    },
    {
     "name": "stdout",
     "output_type": "stream",
     "text": [
      "The number is positive\n"
     ]
    }
   ],
   "source": [
    "def determine_number_type(number):\n",
    "    if number > 0:\n",
    "        return \"positive\"\n",
    "    elif number < 0:\n",
    "        return \"negative\"\n",
    "    else:\n",
    "        return \"zero\"\n",
    "\n",
    "# Take input from the user\n",
    "number = float(input(\"Enter a number: \"))\n",
    "\n",
    "# Determine the nature of the number\n",
    "nature = determine_number_type(number)\n",
    "\n",
    "# Output the result\n",
    "print(\"The number is\", nature)\n"
   ]
  },
  {
   "cell_type": "markdown",
   "id": "9c718586-7b6b-4a47-9146-c49cf33aa076",
   "metadata": {},
   "source": [
    "# if i want to enter three number once "
   ]
  },
  {
   "cell_type": "code",
   "execution_count": 9,
   "id": "cd0596c3-085d-4f84-b3e8-0a9cc90073e0",
   "metadata": {},
   "outputs": [
    {
     "name": "stdin",
     "output_type": "stream",
     "text": [
      "Enter at least three numbers separated by spaces (or type 'exit' to quit):  -1 0 16 22 25\n"
     ]
    },
    {
     "name": "stdout",
     "output_type": "stream",
     "text": [
      "The number -1.0 is negative.\n",
      "The number 0.0 is zero.\n",
      "The number 16.0 is positive.\n",
      "The number 22.0 is positive.\n",
      "The number 25.0 is positive.\n"
     ]
    },
    {
     "name": "stdin",
     "output_type": "stream",
     "text": [
      "Enter at least three numbers separated by spaces (or type 'exit' to quit):  exit\n"
     ]
    },
    {
     "name": "stdout",
     "output_type": "stream",
     "text": [
      "Exiting the program.\n"
     ]
    }
   ],
   "source": [
    "# Function to determine the nature of a number (positive, negative, or zero)\n",
    "def determine_number_type(number):\n",
    "    if number > 0:\n",
    "        return \"positive\"\n",
    "    elif number < 0:\n",
    "        return \"negative\"\n",
    "    else:\n",
    "        return \"zero\"\n",
    "\n",
    "# Main loop\n",
    "while True:\n",
    "    # Take input from the user\n",
    "    numbers_input = input(\"Enter at least three numbers separated by spaces (or type 'exit' to quit): \")\n",
    "\n",
    "    # Check if the user wants to exit\n",
    "    if numbers_input.lower() == 'exit':\n",
    "        print(\"Exiting the program.\")\n",
    "        break\n",
    "\n",
    "    # Split the input string into individual substrings (numbers)\n",
    "    numbers = numbers_input.split()\n",
    "\n",
    "    # Convert the input strings to floating-point numbers\n",
    "    numbers = [float(num) for num in numbers]\n",
    "\n",
    "    # Determine the nature of each number\n",
    "    natures = [determine_number_type(num) for num in numbers]\n",
    "\n",
    "    # Output the results\n",
    "    for num, nature in zip(numbers, natures):\n",
    "        # Print the number and its nature\n",
    "        print(f\"The number {num} is {nature}.\")\n"
   ]
  },
  {
   "cell_type": "markdown",
   "id": "641594ea-5a84-4c8e-b153-6e4ead6308f0",
   "metadata": {},
   "source": [
    "# what is zip()"
   ]
  },
  {
   "cell_type": "markdown",
   "id": "3aed45b5-58ad-446f-939b-199cc9187dba",
   "metadata": {},
   "source": [
    "Imagine you have two lists:\n",
    "\n",
    "**List A: [1, 2, 3]\n",
    "List B: ['a', 'b', 'c']\n",
    "You want to combine these two lists in a way that each item from List A is paired with its corresponding item from List B. Here's what zip() does:**\n",
    "\n",
    "- It takes the first item from List A (which is 1) and pairs it with the first item from List B (which is 'a'). This creates a tuple: (1, 'a').\n",
    "- It takes the second item from List A (which is 2) and pairs it with the second item from List B (which is 'b'). This creates another tuple: (2, 'b').\n",
    "- It continues this process for all items in both lists.\n",
    "- So, zip() essentially zips together the items from two or more lists into tuples, where each tuple contains one item from each list.\n",
    "\n",
    "In the context of the provided code:\n",
    "\n",
    "**for num, nature in zip(numbers, natures):\n",
    "    print(f\"The number {num} is {nature}.\")**\n",
    "    \n",
    "- zip(numbers, natures) combines the numbers list and the natures list element-wise.\n",
    "- During each iteration of the loop, num represents a number from the numbers list, and nature represents its corresponding nature from the natures list.\n",
    "- The loop prints out the number and its nature together for each pair of corresponding elements."
   ]
  },
  {
   "cell_type": "markdown",
   "id": "e9135390-f278-4f84-8dc3-c3e784f66d55",
   "metadata": {},
   "source": [
    "## Q6. How can you create a program that determines whether a given number (in this case, 98) is even or odd? The program should be designed to take the number as input and perform the necessary calculations to determine whether it is divisible by two. If the number is divisible by two without leaving a remainder, it is an even number, and if there is a remainder, it is an odd number. The output of the program should indicate whether the given number is even or odd"
   ]
  },
  {
   "cell_type": "code",
   "execution_count": 16,
   "id": "62beb02d-a9d6-405c-9d9a-208c50014f8f",
   "metadata": {},
   "outputs": [
    {
     "name": "stdin",
     "output_type": "stream",
     "text": [
      "Enter a number:  11\n"
     ]
    },
    {
     "name": "stdout",
     "output_type": "stream",
     "text": [
      "The number 11 is odd.\n"
     ]
    }
   ],
   "source": [
    "# Function to determine if a number is even or odd\n",
    "def check_even_odd(number):\n",
    "    if number % 2 == 0:\n",
    "        return \"even\"\n",
    "    else:\n",
    "        return \"odd\"\n",
    "\n",
    "# Take input from the user\n",
    "number = int(input(\"Enter a number: \"))\n",
    "\n",
    "# Check if the number is even or odd\n",
    "result = check_even_odd(number)\n",
    "\n",
    "# Output the result\n",
    "print(f\"The number {number} is {result}.\")\n"
   ]
  },
  {
   "cell_type": "markdown",
   "id": "253aa929-ea52-4ec1-9a27-e0baac4e6801",
   "metadata": {},
   "source": [
    "## Q7.Write a program for sum of digits.the digits are 76543 and the output should be  25."
   ]
  },
  {
   "cell_type": "code",
   "execution_count": 5,
   "id": "bc710b0b-2371-4c18-9727-1fee6ae1ead9",
   "metadata": {},
   "outputs": [
    {
     "name": "stdout",
     "output_type": "stream",
     "text": [
      "Sum of digits: 25\n"
     ]
    }
   ],
   "source": [
    "# Function to calculate the sum of digits\n",
    "def sum_of_digits(number):\n",
    "    # Initialize sum to 0\n",
    "    total = 0\n",
    "\n",
    "    # Iterate through each digit in the number\n",
    "    while number > 0:\n",
    "        # Extract the last digit\n",
    "        digit = number % 10\n",
    "\n",
    "        # Add the digit to the total\n",
    "        total += digit\n",
    "\n",
    "        # Remove the last digit from the number\n",
    "        number //= 10\n",
    "\n",
    "    # Return the total sum of digits\n",
    "    return total\n",
    "\n",
    "# Main program\n",
    "if __name__ == \"__main__\":\n",
    "    # Input number\n",
    "    number = 76543\n",
    "\n",
    "    # Calculate the sum of digits\n",
    "    result = sum_of_digits(number)\n",
    "\n",
    "    # Output the result\n",
    "    print(\"Sum of digits:\", result)\n"
   ]
  },
  {
   "cell_type": "markdown",
   "id": "cd13a8e6-d185-4532-8433-034f4b3b577a",
   "metadata": {},
   "source": [
    "- **When you perform regular division (using /), it considers the decimal part and gives you a floating-point result. For example, 76543 / 10 would give you 7654.3.**\n",
    "\n",
    "- **However, when you perform floor division (using //), it truncates any decimal part and gives you the integer part of the result. For example, 76543 // 10 would give you 7654, removing any fractional part.**"
   ]
  },
  {
   "cell_type": "markdown",
   "id": "46f1e71a-2bdb-4bc6-a67d-3a2db6531354",
   "metadata": {},
   "source": [
    "## Q8.Write a program for reversing the given number  5436 and the output  should be 6345."
   ]
  },
  {
   "cell_type": "code",
   "execution_count": null,
   "id": "de91c8e9-11e4-4d05-8d0f-fe09d7d17e9b",
   "metadata": {},
   "outputs": [
    {
     "name": "stdout",
     "output_type": "stream",
     "text": [
      "Reversed number: 6345\n"
     ]
    }
   ],
   "source": [
    "def reverse_number(number):\n",
    "    reversed_number = 0\n",
    "\n",
    "    while number > 0:\n",
    "        # Extract the last digit\n",
    "        digit = number % 10\n",
    "\n",
    "        # Append the digit to the reversed number\n",
    "        reversed_number = (reversed_number * 10) + digit # here is the main logic\n",
    "\n",
    "        # Remove the last digit from the number\n",
    "        number //= 10\n",
    "\n",
    "    return reversed_number\n",
    "\n",
    "# Main program\n",
    "if __name__ == \"__main__\":\n",
    "    # Input number\n",
    "    number = 5436\n",
    "\n",
    "    # Reverse the number\n",
    "    reversed_number = reverse_number(number)\n",
    "\n",
    "    # Output the reversed number\n",
    "    print(\"Reversed number:\", reversed_number)\n"
   ]
  },
  {
   "cell_type": "markdown",
   "id": "3ea4457f-8628-4cfc-8bd4-d90c479cf6d0",
   "metadata": {},
   "source": [
    "## Q9.Write a program to check if a given number 371 is an Armstrong number?"
   ]
  },
  {
   "cell_type": "code",
   "execution_count": 22,
   "id": "b5bb9eac-4651-46ae-9603-94dd89e8c3bb",
   "metadata": {},
   "outputs": [
    {
     "name": "stdout",
     "output_type": "stream",
     "text": [
      "371 is an Armstrong number.\n"
     ]
    }
   ],
   "source": [
    "def is_armstrong(number):\n",
    "    # Convert the number to a string to find its length\n",
    "    num_str = str(number)\n",
    "    num_digits = len(num_str)\n",
    "\n",
    "    # Calculate the sum of each digit raised to the power of the number of digits\n",
    "    armstrong_sum = sum(int(digit) ** num_digits for digit in num_str)\n",
    "\n",
    "    # Check if the sum equals the original number\n",
    "    return armstrong_sum == number\n",
    "\n",
    "# Main program\n",
    "if __name__ == \"__main__\":\n",
    "    # Input number\n",
    "    number = 371\n",
    "\n",
    "\n",
    "    # Check if the number is an Armstrong number\n",
    "    if is_armstrong(number):\n",
    "        print(f\"{number} is an Armstrong number.\")\n",
    "    else:\n",
    "        print(f\"{number} is not an Armstrong number.\")\n"
   ]
  },
  {
   "cell_type": "markdown",
   "id": "f6b4fe07-d32d-4d1c-94d9-8d8851c1ef20",
   "metadata": {},
   "source": [
    "***An Armstrong number (also known as a narcissistic number) is a number that is equal to the sum of its own digits each raised to the power of the number of digits in the number. For example, 153 is an Armstrong number because \n",
    "1\n",
    "3\n",
    "+\n",
    "5\n",
    "3\n",
    "+\n",
    "3\n",
    "3\n",
    " =153. In general, an \n",
    "�\n",
    "n-digit number that is equal to the sum of its own digits each raised to the power of \n",
    "�\n",
    "n is called an Armstrong number.***"
   ]
  },
  {
   "cell_type": "markdown",
   "id": "52f6b1d9-0769-46e8-bb4b-a76ed14fffc6",
   "metadata": {},
   "source": [
    "## Q10.Write a program the given year is 1996, a leap year."
   ]
  },
  {
   "cell_type": "code",
   "execution_count": 14,
   "id": "f26be914-1892-4822-952e-c8c9fb4c9056",
   "metadata": {},
   "outputs": [
    {
     "name": "stdout",
     "output_type": "stream",
     "text": [
      "1996 is a leap year\n"
     ]
    }
   ],
   "source": [
    "def is_leap_year(year):\n",
    "    # Check if the year is divisible by 4 and either not divisible by 100 or divisible by 400\n",
    "    if year % 4 == 0 and (year % 100 != 0 or year % 400 == 0):\n",
    "        return True  # If the conditions are met, it's a leap year\n",
    "    else:\n",
    "        return False  # Otherwise, it's not a leap year\n",
    "\n",
    "if __name__ == \"__main__\":\n",
    "    # Input year (for demonstration, you can uncomment this line and get input from the user)\n",
    "    # year = int(input(\"Enter the year:\"))\n",
    "    year = 1996  # Example year\n",
    "    \n",
    "    # Check if the year is a leap year using the is_leap_year function\n",
    "    if is_leap_year(year):\n",
    "        print(f\"{year} is a leap year\")\n",
    "    else:\n",
    "        print(f\"{year} is not a leap year\")\n"
   ]
  },
  {
   "cell_type": "markdown",
   "id": "c059dc36-2c4f-4e14-9469-33a04167a638",
   "metadata": {},
   "source": [
    "## <<<<<<<<<<<<<< Completed >>>>>>>>>>>>>>>"
   ]
  }
 ],
 "metadata": {
  "kernelspec": {
   "display_name": "Python 3 (ipykernel)",
   "language": "python",
   "name": "python3"
  },
  "language_info": {
   "codemirror_mode": {
    "name": "ipython",
    "version": 3
   },
   "file_extension": ".py",
   "mimetype": "text/x-python",
   "name": "python",
   "nbconvert_exporter": "python",
   "pygments_lexer": "ipython3",
   "version": "3.10.8"
  }
 },
 "nbformat": 4,
 "nbformat_minor": 5
}
