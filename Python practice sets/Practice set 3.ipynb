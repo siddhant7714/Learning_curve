{
 "cells": [
  {
   "cell_type": "markdown",
   "id": "b663e373-61e6-4abc-8fbd-85def3fa3b3b",
   "metadata": {},
   "source": [
    "# <<<<<<< Python Practice Set 3 >>>>>>>>"
   ]
  },
  {
   "cell_type": "markdown",
   "id": "d3232a90-1ff5-492b-be2c-5b9811703d4e",
   "metadata": {},
   "source": [
    "# Q1. Create a dictionary called fruits with the following key-value pairs:\n",
    "- **\"apple\": 0.75**\n",
    "\n",
    "- **\"banana\": 1.25**\n",
    "\n",
    "- **\"orange\": 0.90**\n",
    "\n",
    "- **Then, print out the price of a banana.**"
   ]
  },
  {
   "cell_type": "code",
   "execution_count": 5,
   "id": "41c015cd-628a-4e47-a569-9c35e62773a0",
   "metadata": {},
   "outputs": [
    {
     "name": "stdout",
     "output_type": "stream",
     "text": [
      "The price of a banana is: 1.25\n"
     ]
    }
   ],
   "source": [
    "# Create the fruits dictionary\n",
    "fruits = {\n",
    "    \"apple\": 0.75,\n",
    "    \"banana\": 1.25,\n",
    "    \"orange\": 0.90\n",
    "}\n",
    "\n",
    "# Print the price of a banana\n",
    "print(\"The price of a banana is:\", fruits[\"banana\"])\n"
   ]
  },
  {
   "cell_type": "markdown",
   "id": "9043df5a-7d61-4421-ac8a-8e74a6d2d4d2",
   "metadata": {},
   "source": [
    "# Q2. Create an empty dictionary called ages. Add the following key-value pairs to the dictionary:\n",
    "\n",
    "-  **\"Alice\": 30**\n",
    "\n",
    "- **\"Bob\": 25**\n",
    "\n",
    "- **\"Charlie\": 35**\n",
    "\n",
    "- **Then, print out the age of Charlie.**"
   ]
  },
  {
   "cell_type": "code",
   "execution_count": 15,
   "id": "55b242ef-faaa-4368-96e8-cf77f6c9e11d",
   "metadata": {},
   "outputs": [
    {
     "name": "stdout",
     "output_type": "stream",
     "text": [
      "The age of Charlie is: 35\n",
      "The ages dictionary: {'Alice': 30, 'Bob': 25, 'Charlie': 35}\n"
     ]
    }
   ],
   "source": [
    "# Create an empty dictionary called ages\n",
    "ages = {}\n",
    "\n",
    "# Add key-value pairs to the dictionary\n",
    "ages[\"Alice\"] = 30\n",
    "ages[\"Bob\"] = 25\n",
    "ages[\"Charlie\"] = 35\n",
    "\n",
    "# Print the age of Charlie\n",
    "\n",
    "# Print the age of Charlie\n",
    "print(\"The age of Charlie is:\", ages[\"Charlie\"])\n",
    "\n",
    "# Print the entire ages dictionary\n",
    "print(\"The ages dictionary:\", ages)\n"
   ]
  },
  {
   "cell_type": "markdown",
   "id": "1f520258-8618-41b8-8c0c-92681c089d11",
   "metadata": {},
   "source": [
    "# Q3. Write a function called word_count(text) that takes a string as input and returns a dictionary where each key is a word in the text and its value is the number of times that word appears in the text. For example, word_count(\"hello world hello\") should return {\"hello\": 2, \"world\": 1}."
   ]
  },
  {
   "cell_type": "code",
   "execution_count": 18,
   "id": "0a1a730b-52cc-4f46-a1e4-02a7441617d5",
   "metadata": {},
   "outputs": [
    {
     "name": "stdout",
     "output_type": "stream",
     "text": [
      "{'hello': 2, 'world': 1}\n"
     ]
    }
   ],
   "source": [
    "def word_count(text):\n",
    "    # Split the text into words\n",
    "    words = text.split()\n",
    "\n",
    "    # Initialize an empty dictionary to store word counts\n",
    "    word_counts = {}\n",
    "\n",
    "    # Iterate through each word in the list of words\n",
    "    for word in words:\n",
    "        # Check if the word is already in the dictionary\n",
    "        if word in word_counts:\n",
    "            # If the word is already in the dictionary, increment its count\n",
    "            word_counts[word] += 1\n",
    "        else:\n",
    "            # If the word is not in the dictionary, add it with count 1\n",
    "            word_counts[word] = 1\n",
    "\n",
    "    # Return the dictionary of word counts\n",
    "    return word_counts\n",
    "\n",
    "# Test the function with an example\n",
    "text = \"hello world hello\"\n",
    "print(word_count(text))  # Output: {\"hello\": 2, \"world\": 1}\n",
    "\n",
    "    "
   ]
  },
  {
   "cell_type": "markdown",
   "id": "5955e8d5-295c-44f5-ad6d-7c139b68d441",
   "metadata": {},
   "source": [
    "# Q4. Create a dictionary called phone_book with the following key-value pairs:\n",
    "\n",
    "- \"Alice\": \"555-1234\"\n",
    "\n",
    "- \"Bob\": \"555-5678\"\n",
    "\n",
    "- \"Charlie\": \"555-9012\"\n",
    "\n",
    "- Then, prompt the user to enter a name and print out the corresponding phone number. If the name is not\n",
    "in the phone book, print out a message saying that the name was not found"
   ]
  },
  {
   "cell_type": "code",
   "execution_count": 19,
   "id": "f65f75a7-cd25-4bf9-82f2-855aa6c0dabc",
   "metadata": {},
   "outputs": [
    {
     "name": "stdin",
     "output_type": "stream",
     "text": [
      "Enter a name:  Alice\n"
     ]
    },
    {
     "name": "stdout",
     "output_type": "stream",
     "text": [
      "The phone number for Alice is 555-1234\n"
     ]
    }
   ],
   "source": [
    "# Create the phone book dictionary\n",
    "phone_book = {\n",
    "    \"Alice\": \"555-1234\",\n",
    "    \"Bob\": \"555-5678\",\n",
    "    \"Charlie\": \"555-9012\"\n",
    "}\n",
    "\n",
    "# Prompt the user to enter a name\n",
    "name = input(\"Enter a name: \")\n",
    "\n",
    "# Check if the name is in the phone book\n",
    "if name in phone_book:\n",
    "    # If the name is found, print the corresponding phone number\n",
    "    print(f\"The phone number for {name} is {phone_book[name]}\")\n",
    "else:\n",
    "    # If the name is not found, print a message\n",
    "    print(f\"Sorry, {name} was not found in the phone book.\")\n"
   ]
  },
  {
   "cell_type": "markdown",
   "id": "e8670ab9-f5be-4c31-915f-ce648bb876a3",
   "metadata": {},
   "source": [
    "# Q5. Write a program that prompts the user to enter a number between 1 and 10. If the number is less than 5, print out \"Too low!\", otherwise print out \"Too high!\"."
   ]
  },
  {
   "cell_type": "code",
   "execution_count": 32,
   "id": "3c5105c5-b651-47e8-aee7-7db1762e906f",
   "metadata": {},
   "outputs": [
    {
     "name": "stdin",
     "output_type": "stream",
     "text": [
      "Enter a number between 1 and 10:  78\n"
     ]
    },
    {
     "name": "stdout",
     "output_type": "stream",
     "text": [
      "Too high!\n"
     ]
    }
   ],
   "source": [
    "# Prompt the user to enter a number\n",
    "number = int(input(\"Enter a number between 1 and 10: \"))\n",
    "\n",
    "# Check if the number is less than 5\n",
    "if number < 5:\n",
    "    # If the number is less than 5, print \"Too low!\"\n",
    "    print(\"Too low!\")\n",
    "else:\n",
    "    # If the number is 5 or greater, print \"Too high!\"\n",
    "    print(\"Too high!\")\n"
   ]
  },
  {
   "cell_type": "markdown",
   "id": "38e640bc-e09e-4d39-aa56-75eb02fb8e6b",
   "metadata": {},
   "source": [
    "- # so as you see we don't have resitriction to enter number between 1 to 10 so for that we write this"
   ]
  },
  {
   "cell_type": "code",
   "execution_count": 34,
   "id": "026de038-fc89-4ff0-aefe-3058a96260ff",
   "metadata": {},
   "outputs": [
    {
     "name": "stdin",
     "output_type": "stream",
     "text": [
      "Enter a number between 1 and 10:  76\n"
     ]
    },
    {
     "name": "stdout",
     "output_type": "stream",
     "text": [
      "Invalid input. Please enter a number between 1 and 10.\n"
     ]
    },
    {
     "name": "stdin",
     "output_type": "stream",
     "text": [
      "Enter a number between 1 and 10:  9\n"
     ]
    },
    {
     "name": "stdout",
     "output_type": "stream",
     "text": [
      "Too high!\n"
     ]
    }
   ],
   "source": [
    "# Prompt the user to enter a number between 1 and 10\n",
    "while True:\n",
    "    number = int(input(\"Enter a number between 1 and 10: \"))\n",
    "    # Check if the number is within the valid range\n",
    "    if 1 <= number <= 10:\n",
    "        break  # Exit the loop if the number is valid\n",
    "    else:\n",
    "        print(\"Invalid input. Please enter a number between 1 and 10.\")\n",
    "\n",
    "# Check if the number is less than 5\n",
    "if number < 5:\n",
    "    # If the number is less than 5, print \"Too low!\"\n",
    "    print(\"Too low!\")\n",
    "else:\n",
    "    # If the number is 5 or greater, print \"Too high!\"\n",
    "    print(\"Too high!\")\n"
   ]
  },
  {
   "cell_type": "markdown",
   "id": "09a7cb1f-ec7a-4926-8887-af8b918ad856",
   "metadata": {},
   "source": [
    "- # using function "
   ]
  },
  {
   "cell_type": "code",
   "execution_count": 35,
   "id": "228c6060-9173-47bd-b927-289deca726b5",
   "metadata": {},
   "outputs": [
    {
     "name": "stdin",
     "output_type": "stream",
     "text": [
      "Enter a number between 1 and 10:  89\n"
     ]
    },
    {
     "name": "stdout",
     "output_type": "stream",
     "text": [
      "Invalid input. Please enter a number between 1 and 10.\n"
     ]
    },
    {
     "name": "stdin",
     "output_type": "stream",
     "text": [
      "Enter a number between 1 and 10:  9\n"
     ]
    },
    {
     "name": "stdout",
     "output_type": "stream",
     "text": [
      "Too high!\n"
     ]
    }
   ],
   "source": [
    "def get_valid_number():\n",
    "    while True:\n",
    "        number = int(input(\"Enter a number between 1 and 10: \"))\n",
    "        if 1 <= number <= 10:\n",
    "            return number  # Return the valid number and exit the function\n",
    "        else:\n",
    "            print(\"Invalid input. Please enter a number between 1 and 10.\")\n",
    "\n",
    "def check_number(number):\n",
    "    if number < 5:\n",
    "        print(\"Too low!\")\n",
    "    else:\n",
    "        print(\"Too high!\")\n",
    "\n",
    "def main():\n",
    "    number = get_valid_number()\n",
    "    check_number(number)\n",
    "\n",
    "if __name__ == \"__main__\":\n",
    "    main()\n"
   ]
  },
  {
   "cell_type": "markdown",
   "id": "14e5edca-e524-4d7f-8c62-bcffd0d55917",
   "metadata": {},
   "source": [
    "# Q6. Write a program that prompts the user to enter a password. If the password is \"password123\", print out \"Access granted\", otherwise print out \"Access denied\"."
   ]
  },
  {
   "cell_type": "code",
   "execution_count": 38,
   "id": "d9332130-8c38-4464-a1e5-3cd5c179ee9a",
   "metadata": {},
   "outputs": [
    {
     "name": "stdin",
     "output_type": "stream",
     "text": [
      "Enter the password:  password123\n"
     ]
    },
    {
     "name": "stdout",
     "output_type": "stream",
     "text": [
      "Access granted\n"
     ]
    }
   ],
   "source": [
    "def check_password(password):\n",
    "    if password == \"password123\":\n",
    "        print(\"Access granted\")\n",
    "    else:\n",
    "        print(\"Access denied\")\n",
    "\n",
    "def main():\n",
    "    # Prompt the user to enter a password\n",
    "    password = input(\"Enter the password: \")\n",
    "    check_password(password)\n",
    "\n",
    "if __name__ == \"__main__\":\n",
    "    main()\n",
    "    \n",
    "    \n"
   ]
  },
  {
   "cell_type": "markdown",
   "id": "ef13a738-10c6-49ca-aab1-14bbf62bb1e7",
   "metadata": {},
   "source": [
    "# Q7. Write a program that prompts the user to enter a positive integer. Then, use a loop to print out all the odd numbers from 1 to that integer."
   ]
  },
  {
   "cell_type": "code",
   "execution_count": 10,
   "id": "7e0bb5e2-0624-4de0-83e8-7f389599f01d",
   "metadata": {},
   "outputs": [
    {
     "name": "stdin",
     "output_type": "stream",
     "text": [
      "Enter a positive integer:  45\n"
     ]
    },
    {
     "name": "stdout",
     "output_type": "stream",
     "text": [
      "Odd numbers from 1 to 45 :\n",
      "1 3 5 7 9 11 13 15 17 19 21 23 25 27 29 31 33 35 37 39 41 43 45 "
     ]
    }
   ],
   "source": [
    "def print_odd_numbers(limit):\n",
    "    print(\"Odd numbers from 1 to\", limit, \":\")\n",
    "    for num in range(1, limit + 1, 2): # 2 used for step size for odd number\n",
    "        print(num, end=\" \") # end = \" \" used  to give output in same line i,e in vertical form\n",
    "        \n",
    "\n",
    "def main():\n",
    "    # Prompt the user to enter a positive integer\n",
    "    limit = int(input(\"Enter a positive integer: \"))\n",
    "    # Check if the input is positive\n",
    "    if limit > 0: # if condition satisfy then call the function \n",
    "        print_odd_numbers(limit) \n",
    "    else:\n",
    "        print(\"Invalid input. Please enter a positive integer.\")\n",
    "\n",
    "if __name__ == \"__main__\":\n",
    "    main()\n",
    "    \n",
    "# print_odd_number() fn is main logic of code  \n",
    "# under main() fn we write the logic for output of code\n",
    "# and then under if __name__ we pass main() fuction for output\n"
   ]
  },
  {
   "cell_type": "markdown",
   "id": "ef1b278a-7775-406d-a508-43f748546153",
   "metadata": {},
   "source": [
    "# Q8. Write a program that generates a random number between 1 and 100 and then prompts the user to guess the number. If the user's guess is too low, print out \"Too low!\", if the guess is too high, print out \"Too high!\", and if the guess is correct, print out \"You win!\"."
   ]
  },
  {
   "cell_type": "code",
   "execution_count": 10,
   "id": "7f28d24e-3474-4430-8bec-6a087fc95bd2",
   "metadata": {},
   "outputs": [
    {
     "name": "stdin",
     "output_type": "stream",
     "text": [
      "Guess the number between 1 and 100:  45\n"
     ]
    },
    {
     "name": "stdout",
     "output_type": "stream",
     "text": [
      "Too low!\n"
     ]
    },
    {
     "name": "stdin",
     "output_type": "stream",
     "text": [
      "Guess the number between 1 and 100:  343\n"
     ]
    },
    {
     "name": "stdout",
     "output_type": "stream",
     "text": [
      "Too high!\n"
     ]
    },
    {
     "name": "stdin",
     "output_type": "stream",
     "text": [
      "Guess the number between 1 and 100:  343\n"
     ]
    },
    {
     "name": "stdout",
     "output_type": "stream",
     "text": [
      "Too high!\n"
     ]
    },
    {
     "name": "stdin",
     "output_type": "stream",
     "text": [
      "Guess the number between 1 and 100:  3\n"
     ]
    },
    {
     "name": "stdout",
     "output_type": "stream",
     "text": [
      "Too low!\n"
     ]
    },
    {
     "name": "stdin",
     "output_type": "stream",
     "text": [
      "Guess the number between 1 and 100:  EXIT\n"
     ]
    },
    {
     "ename": "ValueError",
     "evalue": "invalid literal for int() with base 10: 'EXIT'",
     "output_type": "error",
     "traceback": [
      "\u001b[0;31m---------------------------------------------------------------------------\u001b[0m",
      "\u001b[0;31mValueError\u001b[0m                                Traceback (most recent call last)",
      "Cell \u001b[0;32mIn[10], line 25\u001b[0m\n\u001b[1;32m     22\u001b[0m             \u001b[38;5;28mprint\u001b[39m(\u001b[38;5;124m\"\u001b[39m\u001b[38;5;124mToo high!\u001b[39m\u001b[38;5;124m\"\u001b[39m)\n\u001b[1;32m     24\u001b[0m \u001b[38;5;66;03m# Call the function to start the game\u001b[39;00m\n\u001b[0;32m---> 25\u001b[0m \u001b[43mguess_number\u001b[49m\u001b[43m(\u001b[49m\u001b[43m)\u001b[49m\n",
      "Cell \u001b[0;32mIn[10], line 11\u001b[0m, in \u001b[0;36mguess_number\u001b[0;34m()\u001b[0m\n\u001b[1;32m      5\u001b[0m secret_number \u001b[38;5;241m=\u001b[39m random\u001b[38;5;241m.\u001b[39mrandint(\u001b[38;5;241m1\u001b[39m, \u001b[38;5;241m100\u001b[39m)\n\u001b[1;32m      9\u001b[0m \u001b[38;5;28;01mwhile\u001b[39;00m \u001b[38;5;28;01mTrue\u001b[39;00m:\n\u001b[1;32m     10\u001b[0m     \u001b[38;5;66;03m# Prompt the user to guess the number\u001b[39;00m\n\u001b[0;32m---> 11\u001b[0m     guess \u001b[38;5;241m=\u001b[39m \u001b[38;5;28;43mint\u001b[39;49m\u001b[43m(\u001b[49m\u001b[38;5;28;43minput\u001b[39;49m\u001b[43m(\u001b[49m\u001b[38;5;124;43m\"\u001b[39;49m\u001b[38;5;124;43mGuess the number between 1 and 100: \u001b[39;49m\u001b[38;5;124;43m\"\u001b[39;49m\u001b[43m)\u001b[49m\u001b[43m)\u001b[49m\n\u001b[1;32m     13\u001b[0m     \u001b[38;5;66;03m# Check if the guess is correct\u001b[39;00m\n\u001b[1;32m     14\u001b[0m     \u001b[38;5;28;01mif\u001b[39;00m guess \u001b[38;5;241m==\u001b[39m secret_number:\n",
      "\u001b[0;31mValueError\u001b[0m: invalid literal for int() with base 10: 'EXIT'"
     ]
    }
   ],
   "source": [
    "import random\n",
    "\n",
    "def guess_number():\n",
    "    # Generate a random number between 1 and 100\n",
    "    secret_number = random.randint(1, 100)\n",
    "    \n",
    "   \n",
    "    \n",
    "    while True:\n",
    "        # Prompt the user to guess the number\n",
    "        guess = int(input(\"Guess the number between 1 and 100: \"))\n",
    "        \n",
    "        # Check if the guess is correct\n",
    "        if guess == secret_number:\n",
    "            print(\"You win!\")\n",
    "            break\n",
    "        # Check if the guess is too low\n",
    "        elif guess < secret_number:\n",
    "            print(\"Too low!\")\n",
    "        # Check if the guess is too high\n",
    "        else:\n",
    "            print(\"Too high!\")\n",
    "\n",
    "# Call the function to start the game\n",
    "guess_number()\n"
   ]
  },
  {
   "cell_type": "markdown",
   "id": "8d212f67-24bd-4371-8f65-26b572798483",
   "metadata": {},
   "source": [
    "- # HERE WE DON'T HAVE CONTROL OVER ANYTHING IN GUESS NUMBER GAME SO I CUSTMIZE ACC. TO ME "
   ]
  },
  {
   "cell_type": "code",
   "execution_count": 3,
   "id": "286b86ee-eba5-4b2f-821c-67cdcfe6ec89",
   "metadata": {},
   "outputs": [
    {
     "name": "stdin",
     "output_type": "stream",
     "text": [
      "Guess the number between 1 and 100:  4\n"
     ]
    },
    {
     "name": "stdout",
     "output_type": "stream",
     "text": [
      "Too low!\n"
     ]
    },
    {
     "name": "stdin",
     "output_type": "stream",
     "text": [
      "Guess the number between 1 and 100:  50\n"
     ]
    },
    {
     "name": "stdout",
     "output_type": "stream",
     "text": [
      "Too low!\n"
     ]
    },
    {
     "name": "stdin",
     "output_type": "stream",
     "text": [
      "Guess the number between 1 and 100:  60\n"
     ]
    },
    {
     "name": "stdout",
     "output_type": "stream",
     "text": [
      "Too low!\n"
     ]
    },
    {
     "name": "stdin",
     "output_type": "stream",
     "text": [
      "Guess the number between 1 and 100:  70\n"
     ]
    },
    {
     "name": "stdout",
     "output_type": "stream",
     "text": [
      "Too low!\n"
     ]
    },
    {
     "name": "stdin",
     "output_type": "stream",
     "text": [
      "Guess the number between 1 and 100:  80\n"
     ]
    },
    {
     "name": "stdout",
     "output_type": "stream",
     "text": [
      "Too low!\n"
     ]
    },
    {
     "name": "stdin",
     "output_type": "stream",
     "text": [
      "Guess the number between 1 and 100:  90\n"
     ]
    },
    {
     "name": "stdout",
     "output_type": "stream",
     "text": [
      "Too low!\n"
     ]
    },
    {
     "name": "stdin",
     "output_type": "stream",
     "text": [
      "Guess the number between 1 and 100:  95\n"
     ]
    },
    {
     "name": "stdout",
     "output_type": "stream",
     "text": [
      "Too low!\n"
     ]
    },
    {
     "name": "stdin",
     "output_type": "stream",
     "text": [
      "Guess the number between 1 and 100:  98\n"
     ]
    },
    {
     "name": "stdout",
     "output_type": "stream",
     "text": [
      "You win!\n"
     ]
    },
    {
     "name": "stdin",
     "output_type": "stream",
     "text": [
      "Do you want to play again? (yes/no):  no\n"
     ]
    },
    {
     "name": "stdout",
     "output_type": "stream",
     "text": [
      "Goodbye!\n"
     ]
    }
   ],
   "source": [
    "import random\n",
    "\n",
    "def guess_number():\n",
    "    while True:\n",
    "        # Generate a random number between 1 and 100\n",
    "        secret_number = random.randint(1, 100)\n",
    "        \n",
    "        \n",
    "        \n",
    "        attempts = 0\n",
    "        max_attempts = 8  # Set maximum number of attempts\n",
    "        \n",
    "        while attempts < max_attempts:\n",
    "            # Prompt the user to guess the number\n",
    "            guess = int(input(\"Guess the number between 1 and 100: \"))\n",
    "            \n",
    "            # Check if the guess is correct\n",
    "            if guess == secret_number:\n",
    "                print(\"You win!\")\n",
    "                break\n",
    "            # Check if the guess is too low\n",
    "            elif guess < secret_number:\n",
    "                print(\"Too low!\")\n",
    "            # Check if the guess is too high\n",
    "            else:\n",
    "                print(\"Too high!\")\n",
    "            \n",
    "            attempts += 1\n",
    "        \n",
    "        else:\n",
    "            print(\"You ran out of attempts. The correct number was:\", secret_number)\n",
    "            \n",
    "        play = input(\"Do you want to play again? (yes/no): \")\n",
    "        if play.lower() != \"yes\":\n",
    "            print(\"Goodbye!\")\n",
    "            break\n",
    "\n",
    "# Call the function to start the game\n",
    "guess_number()\n"
   ]
  },
  {
   "cell_type": "markdown",
   "id": "5fccfecf-7dbb-4ef6-8f35-1152c3bb26ba",
   "metadata": {},
   "source": [
    "- ***Here i add two functionality 1st user control \"do you want to play\" section and anther attempts total 8 attemps so it wil be fun to play this game***"
   ]
  },
  {
   "cell_type": "markdown",
   "id": "330525ff-adbe-4d7d-8cff-d0fd089da76a",
   "metadata": {},
   "source": [
    "# Q9. Write a program that generates a random number between 1 and 10 and then prompts the user to guess the number. The user has three attempts to guess the number. If the user guesses correctly within three attempts, print out \"You win!\", otherwise print out \"You lose!\"."
   ]
  },
  {
   "cell_type": "code",
   "execution_count": 2,
   "id": "cd6c42db-e4b4-4840-a61b-96daa3f6d536",
   "metadata": {},
   "outputs": [
    {
     "name": "stdin",
     "output_type": "stream",
     "text": [
      "Enter your guess (between 1 and 10):  5\n"
     ]
    },
    {
     "name": "stdout",
     "output_type": "stream",
     "text": [
      "You win!\n"
     ]
    },
    {
     "name": "stdin",
     "output_type": "stream",
     "text": [
      "Do you want to play again? (yes/no):  yes\n",
      "Enter your guess (between 1 and 10):  5\n"
     ]
    },
    {
     "name": "stdout",
     "output_type": "stream",
     "text": [
      "Too low!\n"
     ]
    },
    {
     "name": "stdin",
     "output_type": "stream",
     "text": [
      "Enter your guess (between 1 and 10):  8\n"
     ]
    },
    {
     "name": "stdout",
     "output_type": "stream",
     "text": [
      "You win!\n"
     ]
    },
    {
     "name": "stdin",
     "output_type": "stream",
     "text": [
      "Do you want to play again? (yes/no):  yes\n",
      "Enter your guess (between 1 and 10):  5\n"
     ]
    },
    {
     "name": "stdout",
     "output_type": "stream",
     "text": [
      "Too high!\n"
     ]
    },
    {
     "name": "stdin",
     "output_type": "stream",
     "text": [
      "Enter your guess (between 1 and 10):  3\n"
     ]
    },
    {
     "name": "stdout",
     "output_type": "stream",
     "text": [
      "Too high!\n"
     ]
    },
    {
     "name": "stdin",
     "output_type": "stream",
     "text": [
      "Enter your guess (between 1 and 10):  2\n"
     ]
    },
    {
     "name": "stdout",
     "output_type": "stream",
     "text": [
      "Too high!\n",
      "You lose.You ran out of attempts, The correct number was: 1\n"
     ]
    },
    {
     "name": "stdin",
     "output_type": "stream",
     "text": [
      "Do you want to play again? (yes/no):  yes\n",
      "Enter your guess (between 1 and 10):  5\n"
     ]
    },
    {
     "name": "stdout",
     "output_type": "stream",
     "text": [
      "Too low!\n"
     ]
    },
    {
     "name": "stdin",
     "output_type": "stream",
     "text": [
      "Enter your guess (between 1 and 10):  7\n"
     ]
    },
    {
     "name": "stdout",
     "output_type": "stream",
     "text": [
      "Too low!\n"
     ]
    },
    {
     "name": "stdin",
     "output_type": "stream",
     "text": [
      "Enter your guess (between 1 and 10):  9\n"
     ]
    },
    {
     "name": "stdout",
     "output_type": "stream",
     "text": [
      "Too high!\n",
      "You lose.You ran out of attempts, The correct number was: 8\n"
     ]
    },
    {
     "name": "stdin",
     "output_type": "stream",
     "text": [
      "Do you want to play again? (yes/no):  yes\n",
      "Enter your guess (between 1 and 10):  5\n"
     ]
    },
    {
     "name": "stdout",
     "output_type": "stream",
     "text": [
      "Too low!\n"
     ]
    },
    {
     "name": "stdin",
     "output_type": "stream",
     "text": [
      "Enter your guess (between 1 and 10):  8\n"
     ]
    },
    {
     "name": "stdout",
     "output_type": "stream",
     "text": [
      "Too high!\n"
     ]
    },
    {
     "name": "stdin",
     "output_type": "stream",
     "text": [
      "Enter your guess (between 1 and 10):  7\n"
     ]
    },
    {
     "name": "stdout",
     "output_type": "stream",
     "text": [
      "Too high!\n",
      "You lose.You ran out of attempts, The correct number was: 6\n"
     ]
    },
    {
     "name": "stdin",
     "output_type": "stream",
     "text": [
      "Do you want to play again? (yes/no):  yes\n",
      "Enter your guess (between 1 and 10):  5\n"
     ]
    },
    {
     "name": "stdout",
     "output_type": "stream",
     "text": [
      "Too high!\n"
     ]
    },
    {
     "name": "stdin",
     "output_type": "stream",
     "text": [
      "Enter your guess (between 1 and 10):  3\n"
     ]
    },
    {
     "name": "stdout",
     "output_type": "stream",
     "text": [
      "Too high!\n"
     ]
    },
    {
     "name": "stdin",
     "output_type": "stream",
     "text": [
      "Enter your guess (between 1 and 10):  2\n"
     ]
    },
    {
     "name": "stdout",
     "output_type": "stream",
     "text": [
      "You win!\n"
     ]
    },
    {
     "name": "stdin",
     "output_type": "stream",
     "text": [
      "Do you want to play again? (yes/no):  no\n"
     ]
    },
    {
     "name": "stdout",
     "output_type": "stream",
     "text": [
      "Goodbye!\n"
     ]
    }
   ],
   "source": [
    "import random\n",
    "\n",
    "def guess_number():\n",
    "    while True:\n",
    "        # Generate a random number between 1 and 10\n",
    "        secret_num = random.randint(1, 10)\n",
    "        attempts = 0\n",
    "        max_attempts = 3\n",
    "\n",
    "        # Allow the user to guess up to three times\n",
    "        while attempts < max_attempts:\n",
    "            guess = int(input(\"Enter your guess (between 1 and 10): \"))\n",
    "            \n",
    "            # Check if the guess is correct\n",
    "            if guess == secret_num:\n",
    "                print(\"You win!\")\n",
    "                break\n",
    "            # If the guess is too low\n",
    "            elif  guess < secret_num:\n",
    "                print(\"Too low!\")\n",
    "            # If the guess is too high\n",
    "            else:\n",
    "                print(\"Too high!\")\n",
    "            \n",
    "            attempts += 1\n",
    "\n",
    "        else:\n",
    "            # If the user ran out of attempts\n",
    "            print(\"You lose.You ran out of attempts, The correct number was:\", secret_num)\n",
    "            \n",
    "        # Ask the user if they want to play again\n",
    "        play_again = input(\"Do you want to play again? (yes/no): \")\n",
    "        if play_again.lower() != \"yes\":\n",
    "            print(\"Goodbye!\")\n",
    "            break\n",
    "\n",
    "# Call the function to start the game\n",
    "guess_number()\n",
    "\n"
   ]
  },
  {
   "cell_type": "markdown",
   "id": "e0c8ef83-1067-46df-8ed2-9161d8cd96e0",
   "metadata": {},
   "source": [
    "#         Q10. Write a program that prompts the user to enter their age and then prints out whether they are a child (age 0-12), a teenager (age 13-19), an adult (age 20-59), or a senior (age 60+)"
   ]
  },
  {
   "cell_type": "code",
   "execution_count": 4,
   "id": "56a2de91-ad02-45a0-b788-f3f74abfbb68",
   "metadata": {},
   "outputs": [
    {
     "name": "stdin",
     "output_type": "stream",
     "text": [
      "Enter your age:  21\n"
     ]
    },
    {
     "name": "stdout",
     "output_type": "stream",
     "text": [
      "You are a adult\n"
     ]
    }
   ],
   "source": [
    "def age_category(age):\n",
    "    if age >= 0 and age <= 12:\n",
    "        return \"child\"\n",
    "    elif age >= 13 and age <= 19:\n",
    "        return \"teenager\"\n",
    "    elif age >= 20 and age <= 59:\n",
    "        return \"adult\"\n",
    "    else:\n",
    "        return \"senior\"\n",
    "\n",
    "def main():\n",
    "    age = int(input(\"Enter your age: \"))\n",
    "    category = age_category(age)\n",
    "    print(\"You are a\", category)\n",
    "\n",
    "if __name__ == \"__main__\":\n",
    "    main()\n"
   ]
  },
  {
   "cell_type": "markdown",
   "id": "ee542084-e164-4529-821c-931897fadb01",
   "metadata": {},
   "source": [
    "# <<<<<<<<<<<< Completed >>>>>>>>>>>>"
   ]
  },
  {
   "cell_type": "code",
   "execution_count": null,
   "id": "e96d1343-45df-4c3b-aa8c-e0dc35aecbd8",
   "metadata": {},
   "outputs": [],
   "source": []
  }
 ],
 "metadata": {
  "kernelspec": {
   "display_name": "Python 3 (ipykernel)",
   "language": "python",
   "name": "python3"
  },
  "language_info": {
   "codemirror_mode": {
    "name": "ipython",
    "version": 3
   },
   "file_extension": ".py",
   "mimetype": "text/x-python",
   "name": "python",
   "nbconvert_exporter": "python",
   "pygments_lexer": "ipython3",
   "version": "3.10.8"
  }
 },
 "nbformat": 4,
 "nbformat_minor": 5
}
