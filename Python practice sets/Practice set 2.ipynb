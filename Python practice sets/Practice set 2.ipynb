{
 "cells": [
  {
   "cell_type": "markdown",
   "id": "8818d59b-2c6a-4e10-8e94-665ffba96a6d",
   "metadata": {},
   "source": [
    "## <<<<<<<<<<  Python Practice Set 2 >>>>>>>>>>>>>> "
   ]
  },
  {
   "cell_type": "markdown",
   "id": "0296f440-6f51-4a21-8038-0b63cb87a824",
   "metadata": {},
   "source": [
    "## Q1. Create a list in python using the followings: 2,3,4,5,6,7 with variable ‘a’       Add ‘mango to the above list    Also add banana, grapes & orange in the list    insert apple in the 5th position of a variable ‘a’      Remove last item rom the list\t                      "
   ]
  },
  {
   "cell_type": "code",
   "execution_count": 1,
   "id": "a3535728-3041-458f-a643-6c7a9eccdeac",
   "metadata": {},
   "outputs": [
    {
     "name": "stdout",
     "output_type": "stream",
     "text": [
      "[2, 3, 4, 5, 'apple', 6, 7, 'mango', 'banana', 'grapes']\n"
     ]
    }
   ],
   "source": [
    "# Create a list 'a' with initial elements\n",
    "a = [2, 3, 4, 5, 6, 7]\n",
    "\n",
    "# Add 'mango' to the list 'a'\n",
    "a.append('mango')\n",
    "\n",
    "# Add 'banana', 'grapes', and 'orange' to the list 'a'\n",
    "a.extend(['banana', 'grapes', 'orange'])\n",
    "\n",
    "# Insert 'apple' at the 5th position (index 4) in the list 'a'\n",
    "a.insert(4, 'apple')\n",
    "\n",
    "# Remove the last item from the list 'a'\n",
    "a.pop()\n",
    "\n",
    "# Print the modified list 'a'\n",
    "print(a)\n"
   ]
  },
  {
   "cell_type": "markdown",
   "id": "3b300b3d-24aa-4ecf-aca9-b5088c774661",
   "metadata": {},
   "source": [
    "- **append() method is used to add 'mango' to the end of the list**.\n",
    "- **extend() method is used to add multiple elements ('banana', 'grapes', 'orange') to the end of the list.**\n",
    "- **insert() method is used to insert 'apple' at the 5th position (index 4) of the list.**\n",
    "- **pop() method is used to remove the last item from the list. If you don't need to use the removed item, pop() is more appropriate than del because it allows you to work with the removed item after removing it from the list.**"
   ]
  },
  {
   "cell_type": "markdown",
   "id": "0a3c3714-125a-4761-9ae0-1e0bb9ea8267",
   "metadata": {},
   "source": [
    "## Q2. L = [1,2,3,4,5,6,7] Using the above list slice from 1:4"
   ]
  },
  {
   "cell_type": "code",
   "execution_count": 2,
   "id": "14ff499b-3cff-451a-8982-fab2b245e754",
   "metadata": {},
   "outputs": [
    {
     "name": "stdout",
     "output_type": "stream",
     "text": [
      "[2, 3, 4]\n"
     ]
    }
   ],
   "source": [
    "# Given list\n",
    "L = [1, 2, 3, 4, 5, 6, 7]\n",
    "\n",
    "# Slice from index 1 to index 4\n",
    "sublist = L[1:4]\n",
    "\n",
    "# Print the sublist\n",
    "print(sublist)\n"
   ]
  },
  {
   "cell_type": "markdown",
   "id": "e7af1160-c62a-4bb2-b93e-5c4ce067f422",
   "metadata": {},
   "source": [
    "## Q3. Reverse the order of given string L = [4,5,6,8,3] Without using reverse() function"
   ]
  },
  {
   "cell_type": "code",
   "execution_count": 5,
   "id": "217a8349-4c68-451f-8471-90237c949a67",
   "metadata": {},
   "outputs": [
    {
     "name": "stdout",
     "output_type": "stream",
     "text": [
      "[3, 8, 6, 5, 4]\n"
     ]
    }
   ],
   "source": [
    "# Given list\n",
    "L = [4, 5, 6, 8, 3]\n",
    "\n",
    "# Reverse the order of the list using slicing\n",
    "reversed_list = L[::-1]\n",
    "\n",
    "# Print the reversed list\n",
    "print(reversed_list)\n"
   ]
  },
  {
   "cell_type": "markdown",
   "id": "0fb4cbf5-1c7c-4d90-9ed5-e971ea5ea49a",
   "metadata": {},
   "source": [
    "## Q4. Use list comprehension to square the given list L=[2,4,7,3,6,8]"
   ]
  },
  {
   "cell_type": "code",
   "execution_count": 12,
   "id": "7414e35f-ee73-4563-9771-c7b7b630e2da",
   "metadata": {},
   "outputs": [
    {
     "name": "stdout",
     "output_type": "stream",
     "text": [
      "[4, 16, 49, 9, 36, 64]\n"
     ]
    }
   ],
   "source": [
    "# Given list\n",
    "L = [2, 4, 7, 3, 6, 8]\n",
    "\n",
    "# Square each element of the list using list comprehension\n",
    "squared_list = [x ** 2 for x in L]\n",
    "\n",
    "# Print the squared list\n",
    "print(squared_list)\n"
   ]
  },
  {
   "cell_type": "markdown",
   "id": "9947d740-6217-4bef-916e-fec12c61f45c",
   "metadata": {},
   "source": [
    "## Q5. Create a function that takes in a tuple of integers and returns the sum of the integers. Test the function with a tuple of your choice. "
   ]
  },
  {
   "cell_type": "code",
   "execution_count": 8,
   "id": "d3dc8db6-2ec3-4b2f-b4eb-87a9eada6a70",
   "metadata": {},
   "outputs": [
    {
     "name": "stdout",
     "output_type": "stream",
     "text": [
      "Sum of integers: 15\n"
     ]
    }
   ],
   "source": [
    "def sum_of_integers(numbers):\n",
    "    # Initialize sum to 0\n",
    "    total = 0\n",
    "    # Iterate through each integer in the tuple\n",
    "    for num in numbers:\n",
    "        # Add the integer to the total sum\n",
    "        total += num\n",
    "    # Return the total sum\n",
    "    return total\n",
    "\n",
    "# Test the function with a tuple of integers\n",
    "tuple_of_integers = (1, 2, 3, 4, 5)\n",
    "\n",
    "result = sum_of_integers(tuple_of_integers)\n",
    "\n",
    "print(\"Sum of integers:\", result)\n"
   ]
  },
  {
   "cell_type": "markdown",
   "id": "264975d2-da3e-4670-851f-8d8f9b5f83e8",
   "metadata": {},
   "source": [
    "## what if i want to take input as a tuple then "
   ]
  },
  {
   "cell_type": "code",
   "execution_count": 23,
   "id": "0d7ca03a-0025-412e-b11e-16e6c5d3e830",
   "metadata": {},
   "outputs": [
    {
     "name": "stdin",
     "output_type": "stream",
     "text": [
      "Enter a tuple of integers separated by commas (e.g., 1, 2, 3):  16,11,2003\n"
     ]
    },
    {
     "name": "stdout",
     "output_type": "stream",
     "text": [
      "Sum of integers: 2030\n"
     ]
    }
   ],
   "source": [
    "def sum_of_integers(numbers):\n",
    "    # Initialize sum to 0\n",
    "    total = 0\n",
    "    # Iterate through each integer in the tuple\n",
    "    for num in numbers:\n",
    "        # Add the integer to the total sum\n",
    "        total += num\n",
    "    # Return the total sum\n",
    "    return total\n",
    "\n",
    "# Function to get tuple of integers from user input\n",
    "def get_tuple_from_user():\n",
    "    # Get input from the user\n",
    "    user_input = input(\"Enter a tuple of integers separated by commas (e.g., 1, 2, 3): \")\n",
    "    # Convert the input string into a tuple of integers\n",
    "    numbers = tuple(map(int, user_input.split(','))) # map(funtion, iterable) here int applied in every number\n",
    "    return numbers\n",
    "\n",
    "# Get the tuple of integers from the user\n",
    "tuple_of_integers = get_tuple_from_user() # first we call input function then pass this funtion in \n",
    "\n",
    "# Calculate the sum of integers in the tuple using the function\n",
    "result = sum_of_integers(tuple_of_integers) # then pass it in this function and stored in result\n",
    "\n",
    "# Print the sum of integers\n",
    "print(\"Sum of integers:\", result) #then here we print result this is flow of code\n"
   ]
  },
  {
   "cell_type": "markdown",
   "id": "dfe4c7d1-bc7d-4678-8ed5-56a4c3b051f9",
   "metadata": {},
   "source": [
    "## Q6. Create two sets of your favourite fruits, and use the union() method to combine them into a single set. Print the resulting set to the console.\n",
    "\n",
    "\n"
   ]
  },
  {
   "cell_type": "code",
   "execution_count": 24,
   "id": "bf20e8e0-72bd-4f7c-9b9e-1a60c813fe87",
   "metadata": {},
   "outputs": [
    {
     "name": "stdout",
     "output_type": "stream",
     "text": [
      "Combined set of favorite fruits: {'grapes', 'banana', 'pineapple', 'orange', 'apple'}\n"
     ]
    }
   ],
   "source": [
    "# Create two sets of favorite fruits\n",
    "set1 = {\"apple\", \"banana\", \"orange\"}\n",
    "set2 = {\"banana\", \"grapes\", \"pineapple\"}\n",
    "\n",
    "# Combine the sets using the union() method\n",
    "combined_set = set1.union(set2)\n",
    "\n",
    "# Print the resulting set\n",
    "print(\"Combined set of favorite fruits:\", combined_set)\n",
    "\n",
    "#The union() method returns a new set containing all unique elements from both sets.\n"
   ]
  },
  {
   "cell_type": "markdown",
   "id": "ae9a6f45-203d-4a62-aec2-35ef1657cc43",
   "metadata": {},
   "source": [
    "# Q7. Create a set of random words, and use the add() method to add a new word to the set. Print the resulting set to the console."
   ]
  },
  {
   "cell_type": "code",
   "execution_count": 25,
   "id": "ee982b7b-594c-42f3-bc71-3864c8e71719",
   "metadata": {},
   "outputs": [
    {
     "name": "stdout",
     "output_type": "stream",
     "text": [
      "Set of random words with the new word added: {'grapes', 'pineapple', 'apple', 'banana', 'orange'}\n"
     ]
    }
   ],
   "source": [
    "# Create a set of random words\n",
    "word_set = {\"apple\", \"banana\", \"orange\", \"grapes\"}\n",
    "\n",
    "# Add a new word to the set using the add() method\n",
    "word_set.add(\"pineapple\")\n",
    "\n",
    "# Print the resulting set\n",
    "print(\"Set of random words with the new word added:\", word_set)\n",
    "\n"
   ]
  },
  {
   "cell_type": "markdown",
   "id": "e5d22ad6-0bd0-4af6-b9e5-08f99b056d0c",
   "metadata": {},
   "source": [
    "- **append() is used with lists to add elements to the end of the list.**\n",
    "- **add() is used with sets to add elements to the set if they are not already present.**\n"
   ]
  },
  {
   "cell_type": "markdown",
   "id": "bda66830-9964-4bec-8753-ad3e183eea29",
   "metadata": {},
   "source": [
    "## Q8. Create a set of your favourite animals, and use the remove() method to remove one animal from the set. Print the resulting set to the console."
   ]
  },
  {
   "cell_type": "code",
   "execution_count": 26,
   "id": "4f7656d7-aade-4521-9e67-1de4402b64f5",
   "metadata": {},
   "outputs": [
    {
     "name": "stdout",
     "output_type": "stream",
     "text": [
      "Set of favorite animals after removing one: {'elephant', 'dog', 'cat'}\n"
     ]
    }
   ],
   "source": [
    "# Create a set of favorite animals\n",
    "favorite_animals = {\"dog\", \"cat\", \"elephant\", \"lion\"}\n",
    "\n",
    "# Remove one animal from the set using the remove() method\n",
    "favorite_animals.remove(\"lion\")\n",
    "\n",
    "# Print the resulting set\n",
    "print(\"Set of favorite animals after removing one:\", favorite_animals)\n"
   ]
  },
  {
   "cell_type": "markdown",
   "id": "2d089531-3e65-4268-a8ed-cbe5d6acc9cd",
   "metadata": {},
   "source": [
    "## Q9. favorite_books = {\"1984\", \"To Kill a Mockingbird\", \"Pride and Prejudice\"} \n",
    "- favorite_movies = [\"The Shawshank Redemption\", \"The Godfather\", \"The Dark Knight\"]\n",
    "- Use the zip() function to combine the book set and movie list into a list of tuples  representing book/ movie pairs. Print the resulting list."
   ]
  },
  {
   "cell_type": "code",
   "execution_count": 27,
   "id": "e7f2bfee-25e5-4a84-b398-ecf0229d2014",
   "metadata": {},
   "outputs": [
    {
     "name": "stdout",
     "output_type": "stream",
     "text": [
      "Book/Movie pairs:\n",
      "('1984', 'The Shawshank Redemption')\n",
      "('Pride and Prejudice', 'The Godfather')\n",
      "('To Kill a Mockingbird', 'The Dark Knight')\n"
     ]
    }
   ],
   "source": [
    "# Define the favorite books set and favorite movies list\n",
    "favorite_books = {\"1984\", \"To Kill a Mockingbird\", \"Pride and Prejudice\"}\n",
    "favorite_movies = [\"The Shawshank Redemption\", \"The Godfather\", \"The Dark Knight\"]\n",
    "\n",
    "# Combine the book set and movie list using the zip() function\n",
    "book_movie_pairs = list(zip(favorite_books, favorite_movies))\n",
    "\n",
    "# Print the resulting list of tuples\n",
    "print(\"Book/Movie pairs:\")\n",
    "\n",
    "#[('1984', 'The Shawshank Redemption'), ('To Kill a Mockingbird', 'The Godfather'), ('Pride and Prejudice', 'The Dark Knight')]\n",
    "# just because we need to iterate with this list that's why we use below code\n",
    "\n",
    "for pair in book_movie_pairs:\n",
    "    print(pair)\n"
   ]
  },
  {
   "cell_type": "markdown",
   "id": "fda2355d-69aa-4e31-9b41-0de8044c7569",
   "metadata": {},
   "source": [
    "# Q10. Write a Python program to find the difference between consecutive numbers in a list."
   ]
  },
  {
   "cell_type": "code",
   "execution_count": 31,
   "id": "f2179b2f-c5c2-48bc-9252-e14d0d8f3dd2",
   "metadata": {},
   "outputs": [
    {
     "name": "stdout",
     "output_type": "stream",
     "text": [
      "Differences between consecutive numbers: [4, 3, 6, 4]\n"
     ]
    }
   ],
   "source": [
    "def find_consecutive_differences(numbers):\n",
    "    differences = []\n",
    "    for i in range(len(numbers) - 1):\n",
    "        difference = numbers[i + 1] - numbers[i]\n",
    "        differences.append(difference)\n",
    "    return differences\n",
    "\n",
    "# Example usage:\n",
    "numbers = [5, 9, 12, 18, 22]\n",
    "consecutive_differences = find_consecutive_differences(numbers)\n",
    "print(\"Differences between consecutive numbers:\", consecutive_differences)\n"
   ]
  },
  {
   "cell_type": "markdown",
   "id": "acab2afa-f743-40eb-965c-66dbe45d4dca",
   "metadata": {},
   "source": [
    "- **now let me clear all confusion so we have list of 5 elements ok so in term of index we have 0 ,1,2,3,4 ok now we use range(len(number)-1) so it will become 0,1,2,3 it will delete last index am i right or not then my question is how we can have access of 4 index its just because in loop itself  we use number(i+1) so it will access last element this is what the logic of code***"
   ]
  },
  {
   "cell_type": "markdown",
   "id": "3947d90a-e5bd-438a-b830-600ceed6bd3a",
   "metadata": {},
   "source": [
    "- Imagine we have a list with 5 elements, indexed as 0, 1, 2, 3, and 4. When we use range(len(numbers) - 1), it generates a sequence of indices starting from 0 and ending at len(numbers) - 2, effectively excluding the last index (4) since we subtract 1.\n",
    "\n",
    "- Now, let's say we're iterating over this sequence. During each iteration, we're calculating the difference between the current element (at index i) and the next element (at index i + 1). Even though we're excluding the last index in the loop, we're still able to indirectly access the last element (at index 4) through numbers[i + 1].\n",
    "\n",
    "- So, by using numbers[i + 1] within the loop, we ensure that we can calculate the differences between consecutive elements, including the difference involving the last element.\n",
    "\n",
    "- ***In summary, while the loop iterates over indices up to len(numbers) - 2 (0, 1, 2, 3), we can still access the last element at index 4 by considering it as the next element in each iteration through numbers[i + 1]. This approach allows us to correctly calculate the differences between consecutive elements in the list***"
   ]
  },
  {
   "cell_type": "markdown",
   "id": "57466984-930d-40e1-87b2-c71076fd2c47",
   "metadata": {},
   "source": [
    "# <<<<<<<<<<< Completed >>>>>>>>>>>>>"
   ]
  }
 ],
 "metadata": {
  "kernelspec": {
   "display_name": "Python 3 (ipykernel)",
   "language": "python",
   "name": "python3"
  },
  "language_info": {
   "codemirror_mode": {
    "name": "ipython",
    "version": 3
   },
   "file_extension": ".py",
   "mimetype": "text/x-python",
   "name": "python",
   "nbconvert_exporter": "python",
   "pygments_lexer": "ipython3",
   "version": "3.10.8"
  }
 },
 "nbformat": 4,
 "nbformat_minor": 5
}
