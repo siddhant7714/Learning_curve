{
 "cells": [
  {
   "cell_type": "markdown",
   "id": "606d9a36-9652-4e87-aea0-b1e2c6b0ab9c",
   "metadata": {},
   "source": [
    "- # Map"
   ]
  },
  {
   "cell_type": "markdown",
   "id": "e0e3d2b0-9593-4011-9cca-031f1ae11370",
   "metadata": {},
   "source": [
    "- ***The map() function applies the specified function to each element in the iterable and returns a map object, which is an iterator. To obtain the results as a list or another iterable, you can pass the map object to the list() or tuple() constructor or use it directly in a loop.***"
   ]
  },
  {
   "cell_type": "markdown",
   "id": "67c4f37a-655a-42c2-a747-39e401c01c31",
   "metadata": {},
   "source": [
    "- ***function: This is the function that you want to apply to each item in the iterable. It can be a built-in function, a user-defined function, or a lambda function.***\n",
    "\n",
    "- ***iterable: This is the iterable (e.g., a list, tuple, or string) containing the elements you want to process.***"
   ]
  },
  {
   "cell_type": "code",
   "execution_count": 1,
   "id": "524ca722-e526-40b6-b801-03ea31624768",
   "metadata": {},
   "outputs": [],
   "source": [
    "l = [2,3,4,5,6,7]\n"
   ]
  },
  {
   "cell_type": "code",
   "execution_count": 2,
   "id": "acf877ed-76fe-4bfc-9097-18eacd1fcb12",
   "metadata": {},
   "outputs": [],
   "source": [
    "def test(l):\n",
    "    l1=[]\n",
    "    for i in l :\n",
    "        l1.append(i**2)\n",
    "    return l1\n",
    "        \n",
    "    "
   ]
  },
  {
   "cell_type": "code",
   "execution_count": 3,
   "id": "e593cd33-4f63-48e2-9910-9fda88d5945c",
   "metadata": {},
   "outputs": [
    {
     "data": {
      "text/plain": [
       "[4, 9, 16, 25, 36, 49]"
      ]
     },
     "execution_count": 3,
     "metadata": {},
     "output_type": "execute_result"
    }
   ],
   "source": [
    "test(l)"
   ]
  },
  {
   "cell_type": "markdown",
   "id": "bac6299e-c31c-483c-8b05-6cd773d13c6b",
   "metadata": {},
   "source": [
    "BUT WE CAN WRITE SAME PROGRAM WITH THE HELP OF MAP FUNCTION"
   ]
  },
  {
   "cell_type": "markdown",
   "id": "752102ae-4866-4373-bf97-8b52f48e5045",
   "metadata": {},
   "source": [
    "First we declare a function "
   ]
  },
  {
   "cell_type": "markdown",
   "id": "5c22d146-777f-4261-84fa-3c73771b3ead",
   "metadata": {},
   "source": [
    "map() :-map(func, *iterables) --> map object"
   ]
  },
  {
   "cell_type": "code",
   "execution_count": 4,
   "id": "b738d607-824f-47ad-a9c3-ef09cf17967f",
   "metadata": {},
   "outputs": [],
   "source": [
    "l2 = [8,3,4,7,9]"
   ]
  },
  {
   "cell_type": "code",
   "execution_count": 5,
   "id": "0523b135-63d0-4b32-8fc9-8b3943d73a5a",
   "metadata": {},
   "outputs": [],
   "source": [
    "def sq(x):\n",
    "    return x**2\n",
    "\n",
    "# THIS IS EXTERNAL FUNCTION DECLARE "
   ]
  },
  {
   "cell_type": "code",
   "execution_count": 6,
   "id": "f3941127-0e33-4583-8698-eb4441bc994d",
   "metadata": {},
   "outputs": [
    {
     "ename": "NameError",
     "evalue": "name 'x' is not defined",
     "output_type": "error",
     "traceback": [
      "\u001b[0;31m---------------------------------------------------------------------------\u001b[0m",
      "\u001b[0;31mNameError\u001b[0m                                 Traceback (most recent call last)",
      "Cell \u001b[0;32mIn [6], line 1\u001b[0m\n\u001b[0;32m----> 1\u001b[0m \u001b[38;5;28mmap\u001b[39m(sq(\u001b[43mx\u001b[49m),l)\n",
      "\u001b[0;31mNameError\u001b[0m: name 'x' is not defined"
     ]
    }
   ],
   "source": [
    "map(sq(x),l)"
   ]
  },
  {
   "cell_type": "code",
   "execution_count": null,
   "id": "992c655b-62d8-4bac-abb4-947219e8bf44",
   "metadata": {},
   "outputs": [],
   "source": [
    "map(sq,l)"
   ]
  },
  {
   "cell_type": "code",
   "execution_count": null,
   "id": "1f358634-ebd4-47c7-9c42-c7f3d0cb7145",
   "metadata": {},
   "outputs": [],
   "source": [
    "list(map(sq,l))"
   ]
  },
  {
   "cell_type": "code",
   "execution_count": 7,
   "id": "a6902768-ed59-42cd-9e94-e1ee2b3783fe",
   "metadata": {},
   "outputs": [
    {
     "data": {
      "text/plain": [
       "[64, 9, 16, 49, 81]"
      ]
     },
     "execution_count": 7,
     "metadata": {},
     "output_type": "execute_result"
    }
   ],
   "source": [
    "list(map(sq,l2))"
   ]
  },
  {
   "cell_type": "markdown",
   "id": "6f341bfe-8c65-4ef3-97d6-f9b13caa1cf6",
   "metadata": {},
   "source": [
    "USE LAMBDA IN MAP FUNCTION"
   ]
  },
  {
   "cell_type": "code",
   "execution_count": 2,
   "id": "8cd04c0f-645c-490c-938a-05382d0278f4",
   "metadata": {},
   "outputs": [
    {
     "data": {
      "text/plain": [
       "[True, False, False]"
      ]
     },
     "execution_count": 2,
     "metadata": {},
     "output_type": "execute_result"
    }
   ],
   "source": [
    "fruit = [\"Apple\" , \"Banana\" , \"Grapes\"]\n",
    "list(map(lambda s :s[0] == \"A\", fruit))"
   ]
  },
  {
   "cell_type": "code",
   "execution_count": 8,
   "id": "d2c5880e-ced3-4fcf-a938-935711765662",
   "metadata": {},
   "outputs": [
    {
     "data": {
      "text/plain": [
       "[4, 9, 16, 25, 36, 49]"
      ]
     },
     "execution_count": 8,
     "metadata": {},
     "output_type": "execute_result"
    }
   ],
   "source": [
    "list(map(lambda x : x**2 , l))"
   ]
  },
  {
   "cell_type": "code",
   "execution_count": 9,
   "id": "a25c79bf-e835-448c-b760-7e163c94e49f",
   "metadata": {},
   "outputs": [
    {
     "data": {
      "text/plain": [
       "[64, 9, 16, 49, 81]"
      ]
     },
     "execution_count": 9,
     "metadata": {},
     "output_type": "execute_result"
    }
   ],
   "source": [
    "list(map(lambda x : x**2 , l2))"
   ]
  },
  {
   "cell_type": "markdown",
   "id": "ea954332-0550-458e-8c75-e5a31f6df843",
   "metadata": {},
   "source": [
    "LETS ADD TWO LIST WITH THE HELP OF MAP FUNCTION\n"
   ]
  },
  {
   "cell_type": "code",
   "execution_count": 10,
   "id": "8eba72ce-b754-48da-bc30-f36e4086ac17",
   "metadata": {},
   "outputs": [],
   "source": [
    "l1= [1,2,3,4,5]\n",
    "l2= [6,7,8,9,10]"
   ]
  },
  {
   "cell_type": "code",
   "execution_count": 11,
   "id": "d1ffbd9a-d569-45d7-9bee-25d44c314d24",
   "metadata": {},
   "outputs": [
    {
     "data": {
      "text/plain": [
       "[7, 9, 11, 13, 15]"
      ]
     },
     "execution_count": 11,
     "metadata": {},
     "output_type": "execute_result"
    }
   ],
   "source": [
    "list(map(lambda x,y : x+y , l1, l2))"
   ]
  },
  {
   "cell_type": "markdown",
   "id": "183fa1a9-5d5a-4824-880d-8ffa30712830",
   "metadata": {},
   "source": [
    "***ADDITION OF TWO LIST WITH THE HELP EXTERNAL FUNTION***"
   ]
  },
  {
   "cell_type": "code",
   "execution_count": 12,
   "id": "18a0f741-e146-4ca4-8420-1c0250790d41",
   "metadata": {},
   "outputs": [],
   "source": [
    "def add(x,y):\n",
    "    return x+y"
   ]
  },
  {
   "cell_type": "code",
   "execution_count": 13,
   "id": "0428b58d-f1a1-4dcb-839e-64f7b6a45696",
   "metadata": {},
   "outputs": [
    {
     "data": {
      "text/plain": [
       "[7, 9, 11, 13, 15]"
      ]
     },
     "execution_count": 13,
     "metadata": {},
     "output_type": "execute_result"
    }
   ],
   "source": [
    "list(map(add , l1 ,l2))"
   ]
  },
  {
   "cell_type": "code",
   "execution_count": 14,
   "id": "b4ffa1d3-deab-4a69-9b83-36c9499de088",
   "metadata": {},
   "outputs": [
    {
     "data": {
      "text/plain": [
       "['S', 'I', 'D', 'D', 'H', 'A', 'N', 'T']"
      ]
     },
     "execution_count": 14,
     "metadata": {},
     "output_type": "execute_result"
    }
   ],
   "source": [
    "s = \"siddhant\"\n",
    "list(map(lambda s : s.upper() , s ))"
   ]
  },
  {
   "cell_type": "markdown",
   "id": "a3de32c9-c2ef-466d-9518-de0fd13cea5a",
   "metadata": {},
   "source": [
    "\n",
    "\n",
    "\n",
    "\n",
    "***REDUCE FUNCTION***\n",
    "\n",
    "\n",
    "\n"
   ]
  },
  {
   "cell_type": "markdown",
   "id": "716d0558-9383-40ac-81e6-d450a13833ee",
   "metadata": {},
   "source": [
    "- ***You would use the reduce() function in Python when you need to perform a cumulative or rolling computation on elements of an iterable, resulting in a single aggregated value.***\n",
    "\n",
    "- ***reduce() me 2 hi parameter (binary ) hi  de sakte ho not more than that***"
   ]
  },
  {
   "cell_type": "code",
   "execution_count": 15,
   "id": "20cc22e9-dbe9-43ce-a716-44b264e76844",
   "metadata": {},
   "outputs": [],
   "source": [
    "from functools import reduce\n"
   ]
  },
  {
   "cell_type": "markdown",
   "id": "080617ff-7b65-4004-8444-281a1cdbb267",
   "metadata": {},
   "source": [
    "***reduce() :-reduce(function, iterable[, initial]) -> value***\n"
   ]
  },
  {
   "cell_type": "code",
   "execution_count": 10,
   "id": "78911876-0449-43f4-aeed-af00992b351d",
   "metadata": {},
   "outputs": [
    {
     "name": "stdout",
     "output_type": "stream",
     "text": [
      "max value is 9\n",
      "min value is 1\n"
     ]
    }
   ],
   "source": [
    "from functools import reduce\n",
    "\n",
    "# Find the maximum element\n",
    "numbers = [5, 2, 9, 1, 7]\n",
    "max_value = reduce(lambda x, y: x if x > y else y, numbers)\n",
    "# max_value will be 9 (the maximum element)\n",
    "\n",
    "# Find the minimum element\n",
    "min_value = reduce(lambda x, y: x if x < y else y, numbers)\n",
    "# min_value will be 1 (the minimum element)\n",
    "print((\"max value is {}\").format(max_value))\n",
    "print(f\"min value is {min_value}\")"
   ]
  },
  {
   "cell_type": "code",
   "execution_count": 12,
   "id": "10cab86b-90b0-4822-a400-c6e5eaa3c219",
   "metadata": {},
   "outputs": [
    {
     "name": "stdout",
     "output_type": "stream",
     "text": [
      "HelloworldPython\n"
     ]
    }
   ],
   "source": [
    "from functools import reduce\n",
    "\n",
    "words = [\"Hello\", \"world\", \"Python\"]\n",
    "sentence = reduce(lambda x, y: x + y, words)\n",
    "# sentence will be \"Hello world Python\"\n",
    "print(sentence)"
   ]
  },
  {
   "cell_type": "code",
   "execution_count": 13,
   "id": "af268993-6da6-40d0-8719-ea97c6c63985",
   "metadata": {},
   "outputs": [
    {
     "name": "stdout",
     "output_type": "stream",
     "text": [
      "Hello world Python\n"
     ]
    }
   ],
   "source": [
    "from functools import reduce\n",
    "\n",
    "words = [\"Hello\", \"world\", \"Python\"]\n",
    "sentence = reduce(lambda x, y: x + \" \" + y, words)\n",
    "# sentence will be \"Hello world Python\"\n",
    "# \" \" this used for space\n",
    "print(sentence)"
   ]
  },
  {
   "cell_type": "code",
   "execution_count": 16,
   "id": "7af4a28e-f608-4130-81ca-646f228c0d74",
   "metadata": {},
   "outputs": [],
   "source": [
    " l = [2, 3, 4, 5, 6, 7]\n",
    "    "
   ]
  },
  {
   "cell_type": "code",
   "execution_count": 17,
   "id": "1a97b676-5c14-4840-9c9f-d45c0dd743f6",
   "metadata": {},
   "outputs": [
    {
     "data": {
      "text/plain": [
       "27"
      ]
     },
     "execution_count": 17,
     "metadata": {},
     "output_type": "execute_result"
    }
   ],
   "source": [
    "reduce(lambda x, y : x+y , l)"
   ]
  },
  {
   "cell_type": "code",
   "execution_count": 18,
   "id": "ac3eeb46-bf68-4184-a9fb-28157b1d28c8",
   "metadata": {},
   "outputs": [
    {
     "data": {
      "text/plain": [
       "5040"
      ]
     },
     "execution_count": 18,
     "metadata": {},
     "output_type": "execute_result"
    }
   ],
   "source": [
    "reduce(lambda x,y : x*y , l)"
   ]
  },
  {
   "cell_type": "code",
   "execution_count": 19,
   "id": "347773e3-f247-4782-b0b4-9fa15c3cba3c",
   "metadata": {},
   "outputs": [
    {
     "data": {
      "text/plain": [
       "0.0007936507936507937"
      ]
     },
     "execution_count": 19,
     "metadata": {},
     "output_type": "execute_result"
    }
   ],
   "source": [
    "reduce(lambda x,y : x/y , l)"
   ]
  },
  {
   "cell_type": "code",
   "execution_count": 20,
   "id": "7b1e4239-04b0-4893-8d57-08e2ef80f75d",
   "metadata": {},
   "outputs": [
    {
     "data": {
      "text/plain": [
       "-23"
      ]
     },
     "execution_count": 20,
     "metadata": {},
     "output_type": "execute_result"
    }
   ],
   "source": [
    "reduce(lambda x,y : x-y , l)"
   ]
  },
  {
   "cell_type": "code",
   "execution_count": 21,
   "id": "38c6a4b7-ecc9-49aa-9f64-26b3383e8b63",
   "metadata": {},
   "outputs": [
    {
     "data": {
      "text/plain": [
       "7"
      ]
     },
     "execution_count": 21,
     "metadata": {},
     "output_type": "execute_result"
    }
   ],
   "source": [
    "reduce(lambda x,y : x if x>y else y , l)\n"
   ]
  },
  {
   "cell_type": "code",
   "execution_count": 22,
   "id": "ef118cd5-c8b1-4e8f-b161-cc792a7eb870",
   "metadata": {},
   "outputs": [],
   "source": [
    "l = [2, 3, 4, 67,5, 6, 7]"
   ]
  },
  {
   "cell_type": "code",
   "execution_count": 23,
   "id": "9d444453-af32-4bf0-891e-7c7428a82401",
   "metadata": {},
   "outputs": [
    {
     "data": {
      "text/plain": [
       "67"
      ]
     },
     "execution_count": 23,
     "metadata": {},
     "output_type": "execute_result"
    }
   ],
   "source": [
    "reduce(lambda x,y : x if x>y else y , l)"
   ]
  },
  {
   "cell_type": "code",
   "execution_count": 24,
   "id": "ffb78856-c0be-49f5-bd6d-6ef6ab9c10ee",
   "metadata": {},
   "outputs": [
    {
     "data": {
      "text/plain": [
       "[2, 3, 4, 67, 5, 6, 7]"
      ]
     },
     "execution_count": 24,
     "metadata": {},
     "output_type": "execute_result"
    }
   ],
   "source": [
    "l"
   ]
  },
  {
   "cell_type": "markdown",
   "id": "5f6a5a47-ee96-440d-9ccb-9e825a52cbd5",
   "metadata": {},
   "source": [
    "**filter function:-filter(function or None, iterable) --> filter object**\n"
   ]
  },
  {
   "cell_type": "code",
   "execution_count": 27,
   "id": "d8a84380-2f1d-4aef-b94a-ada0a25a9654",
   "metadata": {},
   "outputs": [
    {
     "data": {
      "text/plain": [
       "[2, 4, 6]"
      ]
     },
     "execution_count": 27,
     "metadata": {},
     "output_type": "execute_result"
    }
   ],
   "source": [
    "list(filter(lambda x : x % 2 == 0 , l))\n",
    "# THIS IS FOR even NUMBERS "
   ]
  },
  {
   "cell_type": "code",
   "execution_count": 28,
   "id": "7307981a-e878-4c30-9cae-bcd2386f56f3",
   "metadata": {},
   "outputs": [
    {
     "data": {
      "text/plain": [
       "[3, 67, 5, 7]"
      ]
     },
     "execution_count": 28,
     "metadata": {},
     "output_type": "execute_result"
    }
   ],
   "source": [
    "list(filter(lambda x : x % 2 != 0 , l))\n",
    "# THIS IS FOR ODD NUMBERS "
   ]
  },
  {
   "cell_type": "code",
   "execution_count": 29,
   "id": "669d7bd3-b885-4f33-99bc-10441a6c539c",
   "metadata": {},
   "outputs": [],
   "source": [
    "l2 = [\"siddhant\" , \"singh\" , \"siddhu\" , \"ok\" , \"you\" , \"will\" , \" get \"]"
   ]
  },
  {
   "cell_type": "code",
   "execution_count": 30,
   "id": "986bc1cc-82c5-4397-be75-6ad7b22ff740",
   "metadata": {},
   "outputs": [
    {
     "data": {
      "text/plain": [
       "['singh', 'ok', 'you', 'will', ' get ']"
      ]
     },
     "execution_count": 30,
     "metadata": {},
     "output_type": "execute_result"
    }
   ],
   "source": [
    "list(filter(lambda x : len(x) < 6 , l2))"
   ]
  },
  {
   "cell_type": "code",
   "execution_count": null,
   "id": "2b33d2ed-3d30-406c-a6e3-6ec3a74a42a7",
   "metadata": {},
   "outputs": [],
   "source": []
  },
  {
   "cell_type": "code",
   "execution_count": null,
   "id": "7c9b7fb8-0964-4a74-adad-f4ca799f3919",
   "metadata": {},
   "outputs": [],
   "source": []
  }
 ],
 "metadata": {
  "kernelspec": {
   "display_name": "Python 3 (ipykernel)",
   "language": "python",
   "name": "python3"
  },
  "language_info": {
   "codemirror_mode": {
    "name": "ipython",
    "version": 3
   },
   "file_extension": ".py",
   "mimetype": "text/x-python",
   "name": "python",
   "nbconvert_exporter": "python",
   "pygments_lexer": "ipython3",
   "version": "3.10.6"
  }
 },
 "nbformat": 4,
 "nbformat_minor": 5
}
