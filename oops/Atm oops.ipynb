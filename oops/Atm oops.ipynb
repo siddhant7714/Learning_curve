{
 "cells": [
  {
   "cell_type": "markdown",
   "id": "d4faa7df-430f-407f-aeb9-f18026cb15b5",
   "metadata": {},
   "source": [
    "# Atm example "
   ]
  },
  {
   "cell_type": "code",
   "execution_count": 2,
   "id": "459a34e5-fdd7-49e8-b30b-bdd64eed5d5e",
   "metadata": {},
   "outputs": [],
   "source": [
    "class Atm:              \n",
    "    def __init__(self):       #Constructor function \n",
    "        self.pin = \"\"\n",
    "        self.balance = 0\n",
    "        \n",
    "        self.menu()\n",
    "        \n",
    "        \n",
    "    def menu(self):\n",
    "        user_input = input(''' Hello, How would you like to proceed ?\n",
    "                               1.Enter 1 to create pin\n",
    "                               2.Enter 2 to deposite\n",
    "                               3.Enter 3 to withdraw \n",
    "                               4.Enter 4 to check balance \n",
    "                               5.Enter 5 to exit\n",
    "''')\n",
    "        \n",
    "        if user_input == \"1\":\n",
    "            self.create_pin()\n",
    "        elif user_input == \"2\":\n",
    "            self.deposite()\n",
    "        elif user_input == \"3\":\n",
    "            self.withdraw()\n",
    "        elif user_input == \"4\":\n",
    "            self.check_balance()\n",
    "        elif user_input == \"5\":\n",
    "            print(\"exit\")\n",
    "        \n",
    "   \n",
    "    def create_pin(self):\n",
    "        self.pin = input(\"Enter your pin\")\n",
    "        print(\"Pin set succesfully\")\n",
    "        \n",
    "    def deposite(self):\n",
    "        temp = input(\"Enter your pin\")\n",
    "        if temp == self.pin :\n",
    "            amount = int(input(\"Enter your amount\"))\n",
    "            self.balance += amount\n",
    "            print(\"credited succesfully\")\n",
    "        else:\n",
    "            print(\"Invalid Pin\")\n",
    "            \n",
    "            \n",
    "    def withdraw(self):\n",
    "        temp = input(\"Enter your pin\")\n",
    "        if temp == self.pin:\n",
    "            amount = int(input(\"Enter your amount\"))\n",
    "            if amount <= self.balance:\n",
    "                self.balance -= amount\n",
    "                print(\"withdrawal succesfully\")\n",
    "            else :\n",
    "                print(\"Insufficient fund\")\n",
    "        else :\n",
    "            print(\"Invalid Pin\")\n",
    "                \n",
    "    def check_balance(self):\n",
    "        temp = input(\"Enter your pin\")\n",
    "        if temp == self.pin:\n",
    "            print(self.balance)\n",
    "        else:\n",
    "            print(\"Invalid Pin\")\n",
    "            \n",
    "            \n",
    "            \n",
    "                   \n",
    "                        \n",
    "            \n",
    "        \n",
    "        "
   ]
  },
  {
   "cell_type": "code",
   "execution_count": 6,
   "id": "560fb684-0393-4e00-82d2-e375c59fe5d6",
   "metadata": {},
   "outputs": [
    {
     "name": "stdin",
     "output_type": "stream",
     "text": [
      " Hello, How would you like to proceed ?\n",
      "                               1.Enter 1 to create pin\n",
      "                               2.Enter 2 to deposite\n",
      "                               3.Enter 3 to withdraw \n",
      "                               4.Enter 4 to check balance \n",
      "                               5.Enter 5 to exit\n",
      " 1\n",
      "Enter your pin 7714\n"
     ]
    },
    {
     "name": "stdout",
     "output_type": "stream",
     "text": [
      "Pin set succesfully\n"
     ]
    }
   ],
   "source": [
    "sbi = Atm()"
   ]
  },
  {
   "cell_type": "code",
   "execution_count": 7,
   "id": "af69d4f8-3be9-4a56-8418-96d1d2ce382a",
   "metadata": {},
   "outputs": [
    {
     "name": "stdin",
     "output_type": "stream",
     "text": [
      "Enter your pin 7714\n"
     ]
    },
    {
     "name": "stdout",
     "output_type": "stream",
     "text": [
      "0\n"
     ]
    }
   ],
   "source": [
    "sbi.check_balance()\n"
   ]
  },
  {
   "cell_type": "code",
   "execution_count": 9,
   "id": "84ea52b7-f0cc-4446-b863-aa13efb4a8c9",
   "metadata": {},
   "outputs": [
    {
     "name": "stdin",
     "output_type": "stream",
     "text": [
      "Enter your pin 7714\n",
      "Enter your amount 1000\n"
     ]
    },
    {
     "name": "stdout",
     "output_type": "stream",
     "text": [
      "credited succesfully\n"
     ]
    }
   ],
   "source": [
    "sbi.deposite()"
   ]
  },
  {
   "cell_type": "code",
   "execution_count": 10,
   "id": "c74d5281-a578-4101-904f-6a6f20900947",
   "metadata": {},
   "outputs": [
    {
     "name": "stdin",
     "output_type": "stream",
     "text": [
      "Enter your pin 7714\n",
      "Enter your amount 500\n"
     ]
    },
    {
     "name": "stdout",
     "output_type": "stream",
     "text": [
      "withdrawal succesfully\n"
     ]
    }
   ],
   "source": [
    "sbi.withdraw()"
   ]
  },
  {
   "cell_type": "code",
   "execution_count": 11,
   "id": "6d97dd46-7edd-4071-9f9f-2905ac0d5d7c",
   "metadata": {},
   "outputs": [
    {
     "name": "stdin",
     "output_type": "stream",
     "text": [
      "Enter your pin 778\n"
     ]
    },
    {
     "name": "stdout",
     "output_type": "stream",
     "text": [
      "Invalid Pin\n"
     ]
    }
   ],
   "source": [
    "sbi.withdraw()"
   ]
  },
  {
   "cell_type": "code",
   "execution_count": 12,
   "id": "8b962c43-f7a9-4d08-87fb-fccb5038d922",
   "metadata": {},
   "outputs": [
    {
     "name": "stdin",
     "output_type": "stream",
     "text": [
      "Enter your pin 7714\n",
      "Enter your amount 2000\n"
     ]
    },
    {
     "name": "stdout",
     "output_type": "stream",
     "text": [
      "Insufficient fund\n"
     ]
    }
   ],
   "source": [
    "sbi.withdraw()"
   ]
  },
  {
   "cell_type": "code",
   "execution_count": 3,
   "id": "acd80951-63da-4764-9a2e-bc8a17c13c9e",
   "metadata": {},
   "outputs": [
    {
     "name": "stdin",
     "output_type": "stream",
     "text": [
      " Hello, How would you like to proceed ?\n",
      "                               1.Enter 1 to create pin\n",
      "                               2.Enter 2 to deposite\n",
      "                               3.Enter 3 to withdraw \n",
      "                               4.Enter 4 to check balance \n",
      "                               5.Enter 5 to exit\n",
      " 1\n",
      "Enter your pin 1234\n"
     ]
    },
    {
     "name": "stdout",
     "output_type": "stream",
     "text": [
      "Pin set succesfully\n"
     ]
    }
   ],
   "source": [
    "hdfc = Atm()\n"
   ]
  },
  {
   "cell_type": "code",
   "execution_count": 4,
   "id": "cfad69fd-37fe-460e-a61c-7829353e87ad",
   "metadata": {},
   "outputs": [
    {
     "name": "stdin",
     "output_type": "stream",
     "text": [
      "Enter your pin 1234\n",
      "Enter your amount 50000\n"
     ]
    },
    {
     "name": "stdout",
     "output_type": "stream",
     "text": [
      "credited succesfully\n"
     ]
    }
   ],
   "source": [
    "hdfc.deposite()"
   ]
  },
  {
   "cell_type": "code",
   "execution_count": 5,
   "id": "b667c186-5a40-4c4c-9ec3-dc631a3a8dea",
   "metadata": {},
   "outputs": [
    {
     "name": "stdin",
     "output_type": "stream",
     "text": [
      "Enter your pin 1234\n",
      "Enter your amount 25000\n"
     ]
    },
    {
     "name": "stdout",
     "output_type": "stream",
     "text": [
      "withdrawal succesfully\n"
     ]
    }
   ],
   "source": [
    "hdfc.withdraw()\n"
   ]
  },
  {
   "cell_type": "code",
   "execution_count": 7,
   "id": "40355d45-b9c5-4675-bea6-11c966a63175",
   "metadata": {},
   "outputs": [
    {
     "name": "stdin",
     "output_type": "stream",
     "text": [
      "Enter your pin 1234\n"
     ]
    },
    {
     "name": "stdout",
     "output_type": "stream",
     "text": [
      "25000\n"
     ]
    }
   ],
   "source": [
    "hdfc.check_balance()\n"
   ]
  },
  {
   "cell_type": "code",
   "execution_count": 8,
   "id": "e94c39ab-924a-4873-89f2-76b1af904dd3",
   "metadata": {},
   "outputs": [
    {
     "name": "stdin",
     "output_type": "stream",
     "text": [
      " Hello, How would you like to proceed ?\n",
      "                               1.Enter 1 to create pin\n",
      "                               2.Enter 2 to deposite\n",
      "                               3.Enter 3 to withdraw \n",
      "                               4.Enter 4 to check balance \n",
      "                               5.Enter 5 to exit\n",
      " 5\n"
     ]
    },
    {
     "name": "stdout",
     "output_type": "stream",
     "text": [
      "exit\n"
     ]
    }
   ],
   "source": [
    "hdfc.menu()"
   ]
  },
  {
   "cell_type": "markdown",
   "id": "b0534e48-76bb-4db8-a562-a73fabe2250e",
   "metadata": {},
   "source": [
    "- ***here as we see hdfc and sbi are instances of class Atm***\n",
    "- ***Here as we see hdfc and Sbi are object and normally ek variable me ek hi value stored hota hai lekin yaha multiple value stored hote hai for example balance , pin is variable of class but inme multiple value store ho rahi hai that's why we call it \"objects are instances of class\"***"
   ]
  },
  {
   "cell_type": "raw",
   "id": "759f4122-c23d-4f2b-afaf-39815b859def",
   "metadata": {},
   "source": [
    "**CONSTRUCTOR** :-  __init__ function is know as consturctor  and there is alot of constructor fuction and also\n",
    "we call it magic and dunder function\n",
    "\n",
    "Jb ham koi aise cheez likhaan chahte hai jo code excute karte vo bhi excute ho jaaye without user permission tab \n",
    "ham us cheez ko __init__ ke under likhate hain example ke liye app ka data se connect hona jb user apna phone data se connect kare like whatsapp , instagram and gps se connect karna ola uber and all\n"
   ]
  },
  {
   "cell_type": "markdown",
   "id": "8976f6a1-17ce-4bd0-9461-81273712c4a9",
   "metadata": {},
   "source": [
    "- ***HYPOTHETICAL example of object ,class and consturctor***\n",
    "\n",
    "- like agr ye duniya ek class hai or ham human being object hai jo har cheezo ko use kar rhe hai like all methods \n",
    "in class , tb aishi  kaunsi cheez hai jo consturctor ke under likhi hai jo hamko nhi pata hai \n",
    "\n",
    "- The answer is **death**\n",
    "\n",
    "- cuz hamare paida hote hi death ka code likha jaa chucka hai lekin hame nhi pata hai ki kab hoga death\n"
   ]
  },
  {
   "cell_type": "markdown",
   "id": "b76a3a6e-31c6-4f10-8ccb-d40b25b857ec",
   "metadata": {
    "tags": []
   },
   "source": [
    "- # why we use (self) in class"
   ]
  },
  {
   "cell_type": "markdown",
   "id": "406b8cf9-85f8-4507-9eb7-35f4f615b163",
   "metadata": {},
   "source": [
    "in summary \n",
    "\n",
    "***self itself is a object , like agr ham if we create intance of class SBI then self ki jagah internally sbi le\n",
    "lega or hdfc kiya toh hdfc le lega***\n",
    "\n",
    "- ***1. in opps concept classes me sirf data(variable) or methods hote hai jinko sirf ham object ke through hi \n",
    "call kar sakte hain***\n",
    "\n",
    "- ***2. or methods ek dushare ko aapas me call nhi kar sakte , is vajah se hame self ki madat it means useke \n",
    "object ki madat se call karna padega***\n",
    "\n",
    "- ***In above code if we put self from methods AND WE CALL IT BY \"sbi.create_pin()\" it throw error like***\n",
    "          \n",
    "          def create_pin():                      #removing self from the ()\n",
    "             self.pin = input(\"Enter your pin\")\n",
    "             print(\"Pin set succesfully\")\n",
    "        \n",
    "- ***TYPERROR :-create_pin() takes 0 positional argument but 1 was given*** \n",
    "- **but as you see we don't give any argument but still throw this error this is because here when we call \n",
    "  \"sbi.create_pin()\" sbi is one of its argument vo khud self ki jagah leta hai internally \n",
    "  that's the hole idea behind it**"
   ]
  },
  {
   "cell_type": "code",
   "execution_count": null,
   "id": "565a4149-ceae-42c1-88b5-822bfae19d4a",
   "metadata": {},
   "outputs": [],
   "source": []
  },
  {
   "cell_type": "markdown",
   "id": "ef32ad7c-24dd-4fc4-964b-b0e217db1887",
   "metadata": {},
   "source": [
    "- # Encapsulation \n",
    "\n",
    "- ***In simple term jb bhi ham koi data outside world se chhipaana chahate hai jiska access outer world ke pass \n",
    "  na ho us process ko ham encapsulation kahte hai yeah sirf special tarike se hi like getter and setter se hi         access kar sakte hain*** \n",
    " "
   ]
  },
  {
   "cell_type": "markdown",
   "id": "34398f34-da2a-4b87-aaf9-d35e60a6f129",
   "metadata": {},
   "source": [
    "# Imp point for this"
   ]
  },
  {
   "cell_type": "markdown",
   "id": "35df090c-9517-4a3d-b986-516c02eb8bc4",
   "metadata": {},
   "source": [
    "- encapsulation ko use karne ke liye double __ UNDERSCORE ka use us particular word ke aage  karte hai\n",
    "\n",
    "- ham isko isiye use karte hai taki koi junior programmer use particular data se chhed chhad na kare \n",
    "  example ke liye pin & balance agr koi us data ko manupualte karke balance me integer datatype ke jagah string \n",
    "  daal de yaa uske balance ko manupulate kar de\n",
    "  \n",
    "- or jab ham encapsulation use karte hai tab instance(dot) i.e sbi.all methods & data comes in option but jab ham encapsulation ka use karte hain tab vo data or method us option me se hide ho jaate hai taaki uske sath koi changes na kar sake\n",
    "\n",
    "- We can also hide methods by putting __ in front of it like if i want to hide a menu method in my programm i can hide it by **def __menu(self):** and it hide by the given options but here we don't gonna hide it}\n"
   ]
  },
  {
   "cell_type": "code",
   "execution_count": 3,
   "id": "ed156357-80c5-44e7-9220-14f6fba711aa",
   "metadata": {},
   "outputs": [],
   "source": [
    "class Atm:              \n",
    "    def __init__(self):       #Constructor function \n",
    "        self.__pin = \"\"\n",
    "        self.__balance = 0\n",
    "        \n",
    "        self.menu()\n",
    "        \n",
    "        \n",
    "    def menu(self):\n",
    "        user_input = input(''' Hello, How would you like to proceed ?\n",
    "                               1.Enter 1 to create pin\n",
    "                               2.Enter 2 to deposite\n",
    "                               3.Enter 3 to withdraw \n",
    "                               4.Enter 4 to check balance \n",
    "                               5.Enter 5 to exit\n",
    "''')\n",
    "        \n",
    "        if user_input == \"1\":\n",
    "            self.create_pin()\n",
    "        elif user_input == \"2\":\n",
    "            self.deposite()\n",
    "        elif user_input == \"3\":\n",
    "            self.withdraw()\n",
    "        elif user_input == \"4\":\n",
    "            self.check_balance()\n",
    "        elif user_input == \"5\":\n",
    "            print(\"exit\")\n",
    "        \n",
    "   \n",
    "    def create_pin(self):\n",
    "        self.__pin = input(\"Enter your pin\")\n",
    "        print(\"Pin set succesfully\")\n",
    "        \n",
    "    def deposite(self):\n",
    "        temp = input(\"Enter your pin\")\n",
    "        if temp == self.__pin :\n",
    "            amount = int(input(\"Enter your amount\"))\n",
    "            self.__balance += amount\n",
    "            print(\"credited succesfully\")\n",
    "        else:\n",
    "            print(\"Invalid Pin\")\n",
    "            \n",
    "            \n",
    "    def withdraw(self):\n",
    "        temp = input(\"Enter your pin\")\n",
    "        if temp == self.__pin:\n",
    "            amount = int(input(\"Enter your amount\"))\n",
    "            if amount <= self.__balance:\n",
    "                self.__balance -= amount\n",
    "                print(\"withdrawal succesfully\")\n",
    "            else :\n",
    "                print(\"Insufficient fund\")\n",
    "        else :\n",
    "            print(\"Invalid Pin\")\n",
    "                \n",
    "    def check_balance(self):\n",
    "        temp = input(\"Enter your pin\")\n",
    "        if temp == self.__pin:\n",
    "            print(self.__balance)\n",
    "        else:\n",
    "            print(\"Invalid Pin\")\n",
    "              "
   ]
  },
  {
   "cell_type": "code",
   "execution_count": 4,
   "id": "9318d017-c4a4-4fda-97a9-9d86576e83f9",
   "metadata": {},
   "outputs": [
    {
     "name": "stdin",
     "output_type": "stream",
     "text": [
      " Hello, How would you like to proceed ?\n",
      "                               1.Enter 1 to create pin\n",
      "                               2.Enter 2 to deposite\n",
      "                               3.Enter 3 to withdraw \n",
      "                               4.Enter 4 to check balance \n",
      "                               5.Enter 5 to exit\n",
      " 1\n",
      "Enter your pin 1234\n"
     ]
    },
    {
     "name": "stdout",
     "output_type": "stream",
     "text": [
      "Pin set succesfully\n"
     ]
    }
   ],
   "source": [
    "sbi = Atm()"
   ]
  },
  {
   "cell_type": "code",
   "execution_count": 6,
   "id": "cc306f62-e17e-44f8-9cb4-74587595efb9",
   "metadata": {},
   "outputs": [
    {
     "name": "stdin",
     "output_type": "stream",
     "text": [
      "Enter your pin 1234\n"
     ]
    },
    {
     "name": "stdout",
     "output_type": "stream",
     "text": [
      "0\n"
     ]
    }
   ],
   "source": [
    "sbi.check_balance()"
   ]
  },
  {
   "cell_type": "code",
   "execution_count": 8,
   "id": "a1f4a849-5074-4285-a504-34db22888b83",
   "metadata": {},
   "outputs": [
    {
     "name": "stdin",
     "output_type": "stream",
     "text": [
      "Enter your pin 1234\n",
      "Enter your amount 50000\n"
     ]
    },
    {
     "name": "stdout",
     "output_type": "stream",
     "text": [
      "credited succesfully\n"
     ]
    }
   ],
   "source": [
    "sbi.deposite()"
   ]
  },
  {
   "cell_type": "code",
   "execution_count": 9,
   "id": "18e3d1eb-4f95-4b67-a090-5e2227ddfa14",
   "metadata": {},
   "outputs": [
    {
     "name": "stdin",
     "output_type": "stream",
     "text": [
      "Enter your pin 1234\n",
      "Enter your amount 10000\n"
     ]
    },
    {
     "name": "stdout",
     "output_type": "stream",
     "text": [
      "withdrawal succesfully\n"
     ]
    }
   ],
   "source": [
    "sbi.withdraw()"
   ]
  },
  {
   "cell_type": "code",
   "execution_count": 10,
   "id": "09d32845-851c-4613-9bf8-d04c4be966ad",
   "metadata": {},
   "outputs": [
    {
     "name": "stdin",
     "output_type": "stream",
     "text": [
      "Enter your pin 1234\n"
     ]
    },
    {
     "name": "stdout",
     "output_type": "stream",
     "text": [
      "40000\n"
     ]
    }
   ],
   "source": [
    "sbi.check_balance()"
   ]
  },
  {
   "cell_type": "code",
   "execution_count": 11,
   "id": "3ab7f149-80a9-484e-b077-0ccd673aabdd",
   "metadata": {},
   "outputs": [
    {
     "name": "stdin",
     "output_type": "stream",
     "text": [
      "Enter your pin 2345\n"
     ]
    },
    {
     "name": "stdout",
     "output_type": "stream",
     "text": [
      "Pin set succesfully\n"
     ]
    }
   ],
   "source": [
    "sbi.create_pin()"
   ]
  },
  {
   "cell_type": "code",
   "execution_count": 12,
   "id": "902db75c-2f46-41b7-925a-6648e0457d38",
   "metadata": {},
   "outputs": [
    {
     "name": "stdin",
     "output_type": "stream",
     "text": [
      "Enter your pin 1234\n"
     ]
    },
    {
     "name": "stdout",
     "output_type": "stream",
     "text": [
      "Invalid Pin\n"
     ]
    }
   ],
   "source": [
    "sbi.check_balance() #this is old pin "
   ]
  },
  {
   "cell_type": "code",
   "execution_count": 13,
   "id": "7bf9f72d-4648-46f2-afed-24dd33afc987",
   "metadata": {},
   "outputs": [
    {
     "name": "stdin",
     "output_type": "stream",
     "text": [
      "Enter your pin 2345\n"
     ]
    },
    {
     "name": "stdout",
     "output_type": "stream",
     "text": [
      "40000\n"
     ]
    }
   ],
   "source": [
    "sbi.check_balance()\n"
   ]
  },
  {
   "cell_type": "markdown",
   "id": "d05d3a72-0ac2-4611-9770-33c6586d9d93",
   "metadata": {},
   "source": [
    "- ***As we can see we now we don't get option of pin and balance cuz we hide it in encapsulation***"
   ]
  },
  {
   "cell_type": "markdown",
   "id": "50e28729-0f19-433c-b49d-742bd661ab56",
   "metadata": {},
   "source": [
    "# Now we just see is really we hide the data or it can be accessed"
   ]
  },
  {
   "cell_type": "markdown",
   "id": "1ceae89a-2cfd-4440-a408-03dba8809e64",
   "metadata": {},
   "source": [
    "- ***1. NOthing in python is truely private*** . why i am saying this thing lets see it by example\n",
    "\n",
    "- lets see how encapsulation work internally in python\n",
    "\n",
    "- when we use **__Anyword** internally it store by **_classname__Anyword** i.e here if we want to hide __balance so internally it stores in **_Atm__balance** so if we want to acces it we can use this code **sbi._Atm__balance** we can access it by this & also manupulate it \n",
    "\n",
    "- there is question arise in mind we can also access it by sbi.__balance , lets see it below is it possible or not"
   ]
  },
  {
   "cell_type": "code",
   "execution_count": 4,
   "id": "2182d1f5-a8c9-4882-9797-f07e133a6eb5",
   "metadata": {},
   "outputs": [
    {
     "name": "stdin",
     "output_type": "stream",
     "text": [
      " Hello, How would you like to proceed ?\n",
      "                               1.Enter 1 to create pin\n",
      "                               2.Enter 2 to deposite\n",
      "                               3.Enter 3 to withdraw \n",
      "                               4.Enter 4 to check balance \n",
      "                               5.Enter 5 to exit\n",
      " 1\n",
      "Enter your pin 1234\n"
     ]
    },
    {
     "name": "stdout",
     "output_type": "stream",
     "text": [
      "Pin set succesfully\n"
     ]
    }
   ],
   "source": [
    "sbi = Atm()"
   ]
  },
  {
   "cell_type": "code",
   "execution_count": 8,
   "id": "0ee1c4d8-612b-49f7-b693-818b23fee18b",
   "metadata": {},
   "outputs": [
    {
     "data": {
      "text/plain": [
       "0"
      ]
     },
     "execution_count": 8,
     "metadata": {},
     "output_type": "execute_result"
    }
   ],
   "source": [
    "sbi._Atm__balance"
   ]
  },
  {
   "cell_type": "code",
   "execution_count": 9,
   "id": "41aefd21-0948-4d32-8def-43f7a034628d",
   "metadata": {},
   "outputs": [
    {
     "name": "stdin",
     "output_type": "stream",
     "text": [
      "Enter your pin 1234\n",
      "Enter your amount 5000\n"
     ]
    },
    {
     "name": "stdout",
     "output_type": "stream",
     "text": [
      "credited succesfully\n"
     ]
    }
   ],
   "source": [
    "sbi.deposite()"
   ]
  },
  {
   "cell_type": "code",
   "execution_count": 10,
   "id": "eab82295-ed7f-4c35-a22c-89aacd442745",
   "metadata": {},
   "outputs": [
    {
     "data": {
      "text/plain": [
       "5000"
      ]
     },
     "execution_count": 10,
     "metadata": {},
     "output_type": "execute_result"
    }
   ],
   "source": [
    "sbi._Atm__balance"
   ]
  },
  {
   "cell_type": "code",
   "execution_count": 13,
   "id": "f635e2a1-0593-4d87-b2e3-c0deec9ba18f",
   "metadata": {},
   "outputs": [],
   "source": [
    "sbi.__balance = \"this is string\" #why it didn't give error cuz __balance become new variable under Atm class"
   ]
  },
  {
   "cell_type": "code",
   "execution_count": 14,
   "id": "4629a467-87cc-44e5-be52-836d4ef652c9",
   "metadata": {},
   "outputs": [
    {
     "name": "stdin",
     "output_type": "stream",
     "text": [
      "Enter your pin 1234\n",
      "Enter your amount 4000\n"
     ]
    },
    {
     "name": "stdout",
     "output_type": "stream",
     "text": [
      "credited succesfully\n"
     ]
    }
   ],
   "source": [
    "sbi.deposite()\n"
   ]
  },
  {
   "cell_type": "code",
   "execution_count": 15,
   "id": "d3eac3f0-514e-41da-805c-72afc84f0464",
   "metadata": {},
   "outputs": [
    {
     "name": "stdin",
     "output_type": "stream",
     "text": [
      "Enter your pin 1234\n"
     ]
    },
    {
     "name": "stdout",
     "output_type": "stream",
     "text": [
      "9000\n"
     ]
    }
   ],
   "source": [
    "sbi.check_balance()\n"
   ]
  },
  {
   "cell_type": "markdown",
   "id": "10e609dc-3498-4c35-9a9d-5aed29ec52d4",
   "metadata": {},
   "source": [
    "- ***why it didn't considered **sbi.__balance** because it become new variable in class that **don't have any relation with balance** in our Atm class because internally out balance varibale become **_Atm__balance** in python*** \n",
    "\n",
    "- ***Now what happend if we manupulate _Atm__balace***\n"
   ]
  },
  {
   "cell_type": "code",
   "execution_count": 17,
   "id": "20289d4a-bc5b-4815-b0e3-26b258a10d97",
   "metadata": {},
   "outputs": [],
   "source": [
    "sbi._Atm__balance = \"this is original where we can access balance varible\""
   ]
  },
  {
   "cell_type": "code",
   "execution_count": 18,
   "id": "18d05ffa-036c-4dbe-99a8-66d99af7783d",
   "metadata": {},
   "outputs": [
    {
     "name": "stdin",
     "output_type": "stream",
     "text": [
      "Enter your pin 1234\n",
      "Enter your amount 1000\n"
     ]
    },
    {
     "ename": "TypeError",
     "evalue": "can only concatenate str (not \"int\") to str",
     "output_type": "error",
     "traceback": [
      "\u001b[0;31m---------------------------------------------------------------------------\u001b[0m",
      "\u001b[0;31mTypeError\u001b[0m                                 Traceback (most recent call last)",
      "Cell \u001b[0;32mIn [18], line 1\u001b[0m\n\u001b[0;32m----> 1\u001b[0m \u001b[43msbi\u001b[49m\u001b[38;5;241;43m.\u001b[39;49m\u001b[43mdeposite\u001b[49m\u001b[43m(\u001b[49m\u001b[43m)\u001b[49m\n",
      "Cell \u001b[0;32mIn [3], line 38\u001b[0m, in \u001b[0;36mAtm.deposite\u001b[0;34m(self)\u001b[0m\n\u001b[1;32m     36\u001b[0m \u001b[38;5;28;01mif\u001b[39;00m temp \u001b[38;5;241m==\u001b[39m \u001b[38;5;28mself\u001b[39m\u001b[38;5;241m.\u001b[39m__pin :\n\u001b[1;32m     37\u001b[0m     amount \u001b[38;5;241m=\u001b[39m \u001b[38;5;28mint\u001b[39m(\u001b[38;5;28minput\u001b[39m(\u001b[38;5;124m\"\u001b[39m\u001b[38;5;124mEnter your amount\u001b[39m\u001b[38;5;124m\"\u001b[39m))\n\u001b[0;32m---> 38\u001b[0m     \u001b[38;5;28mself\u001b[39m\u001b[38;5;241m.\u001b[39m__balance \u001b[38;5;241m+\u001b[39m\u001b[38;5;241m=\u001b[39m amount\n\u001b[1;32m     39\u001b[0m     \u001b[38;5;28mprint\u001b[39m(\u001b[38;5;124m\"\u001b[39m\u001b[38;5;124mcredited succesfully\u001b[39m\u001b[38;5;124m\"\u001b[39m)\n\u001b[1;32m     40\u001b[0m \u001b[38;5;28;01melse\u001b[39;00m:\n",
      "\u001b[0;31mTypeError\u001b[0m: can only concatenate str (not \"int\") to str"
     ]
    }
   ],
   "source": [
    "sbi.deposite()  "
   ]
  },
  {
   "cell_type": "markdown",
   "id": "d1e3b260-ccee-48b4-a90f-ca56ddd691db",
   "metadata": {},
   "source": [
    "- ***Now we can see how it gives error because int can't concatenate with string*** \n",
    "\n",
    "- ***it means we can say that __balance becomes _Atm__balance internally in python***\n",
    "\n",
    "- ***so hence it proves nothing in python is truly private***"
   ]
  },
  {
   "cell_type": "code",
   "execution_count": 20,
   "id": "e6102405-02ea-4e42-a10a-f9317aaa3655",
   "metadata": {},
   "outputs": [
    {
     "name": "stdin",
     "output_type": "stream",
     "text": [
      "Enter your pin 1234\n"
     ]
    },
    {
     "name": "stdout",
     "output_type": "stream",
     "text": [
      "this is original where we can access balance varible\n"
     ]
    }
   ],
   "source": [
    "sbi.check_balance() #now ideally we should also create an funciotn where balance can't be in string"
   ]
  },
  {
   "cell_type": "code",
   "execution_count": 21,
   "id": "53948c90-8e6a-433a-a3fa-cf4b66af1856",
   "metadata": {},
   "outputs": [],
   "source": [
    "sbi._Atm__balance = 10000"
   ]
  },
  {
   "cell_type": "code",
   "execution_count": 22,
   "id": "ae7f73b5-5729-4ff2-9c9a-64a8239bb34c",
   "metadata": {},
   "outputs": [
    {
     "name": "stdin",
     "output_type": "stream",
     "text": [
      "Enter your pin 1234\n"
     ]
    },
    {
     "name": "stdout",
     "output_type": "stream",
     "text": [
      "10000\n"
     ]
    }
   ],
   "source": [
    "sbi.check_balance()"
   ]
  },
  {
   "cell_type": "markdown",
   "id": "fe871d13-f4cd-4583-ad05-d58c99eb73ff",
   "metadata": {},
   "source": [
    "- # ***To give access to private attributes we can use getter and setter function***"
   ]
  },
  {
   "cell_type": "markdown",
   "id": "2f650e25-0700-44c1-9650-9995f2a151a6",
   "metadata": {},
   "source": [
    "- ***Why we are using it***\n",
    "\n",
    "- hum getter or setter function ka use private attributes ko access karne ke liye dete hai like pin and balance like agr hame change pin ka option dena hai toh ham get and set function ka use kar lenge\n",
    "\n",
    "- ***Question :- here the biggest question arise Jb hame access dena hi tha toh hamne usko private kyo kiya***\n",
    "\n",
    "- **Answer is :- kyoki setter function me ham code ke condition ko apne according set kar sakte to given criteria like the pin numer must be in string formate not more or less than 5 digit and so on**\n",
    "\n",
    "- futher points are given in theory notes\n"
   ]
  },
  {
   "cell_type": "raw",
   "id": "0fccfca3-14eb-4921-bf7f-a1c10c9ee6d1",
   "metadata": {},
   "source": [
    "lets do practically"
   ]
  },
  {
   "cell_type": "code",
   "execution_count": 2,
   "id": "427fcbdb-4b8f-42bb-8a93-b28e70ef2865",
   "metadata": {},
   "outputs": [],
   "source": [
    "class Atm:              \n",
    "    def __init__(self):       #Constructor function \n",
    "        self.__pin = \"\"\n",
    "        self.__balance = 0\n",
    "        \n",
    "        self.menu()\n",
    "        \n",
    "        \n",
    "    def get_pin(self):\n",
    "        return self.__pin\n",
    "    \n",
    "    def set_pin(self, new_pin):\n",
    "        if type(new_pin) == str:\n",
    "            self.__pin = new_pin\n",
    "            print(\"Pin changed\")\n",
    "\n",
    "        else:\n",
    "            print(\"Not allowed\")\n",
    "        \n",
    "    def menu(self):\n",
    "        user_input = input(''' Hello, How would you like to proceed ?\n",
    "                               1.Enter 1 to create pin\n",
    "                               2.Enter 2 to deposite\n",
    "                               3.Enter 3 to withdraw \n",
    "                               4.Enter 4 to check balance \n",
    "                               5.Enter 5 to exit\n",
    "''')\n",
    "        \n",
    "        if user_input == \"1\":\n",
    "            self.create_pin()\n",
    "        elif user_input == \"2\":\n",
    "            self.deposite()\n",
    "        elif user_input == \"3\":\n",
    "            self.withdraw()\n",
    "        elif user_input == \"4\":\n",
    "            self.check_balance()\n",
    "        elif user_input == \"5\":\n",
    "            print(\"exit\")\n",
    "        \n",
    "   \n",
    "    def create_pin(self):\n",
    "        self.__pin = input(\"Enter your pin\")\n",
    "        print(\"Pin set succesfully\")\n",
    "        \n",
    "    def deposite(self):\n",
    "        temp = input(\"Enter your pin\")\n",
    "        if temp == self.__pin :\n",
    "            amount = int(input(\"Enter your amount\"))\n",
    "            self.__balance += amount\n",
    "            print(\"credited succesfully\")\n",
    "        else:\n",
    "            print(\"Invalid Pin\")\n",
    "            \n",
    "            \n",
    "    def withdraw(self):\n",
    "        temp = input(\"Enter your pin\")\n",
    "        if temp == self.__pin:\n",
    "            amount = int(input(\"Enter your amount\"))\n",
    "            if amount <= self.__balance:\n",
    "                self.__balance -= amount\n",
    "                print(\"withdrawal succesfully\")\n",
    "            else :\n",
    "                print(\"Insufficient fund\")\n",
    "        else :\n",
    "            print(\"Invalid Pin\")\n",
    "                \n",
    "    def check_balance(self):\n",
    "        temp = input(\"Enter your pin\")\n",
    "        if temp == self.__pin:\n",
    "            print(self.__balance)\n",
    "        else:\n",
    "            print(\"Invalid Pin\")\n",
    "              "
   ]
  },
  {
   "cell_type": "code",
   "execution_count": 4,
   "id": "91852487-7b60-4296-b1af-aad4cc6e507b",
   "metadata": {},
   "outputs": [
    {
     "name": "stdin",
     "output_type": "stream",
     "text": [
      " Hello, How would you like to proceed ?\n",
      "                               1.Enter 1 to create pin\n",
      "                               2.Enter 2 to deposite\n",
      "                               3.Enter 3 to withdraw \n",
      "                               4.Enter 4 to check balance \n",
      "                               5.Enter 5 to exit\n",
      " 1234\n"
     ]
    }
   ],
   "source": [
    "sbi = Atm()"
   ]
  },
  {
   "cell_type": "code",
   "execution_count": 3,
   "id": "3b13f470-d786-4c92-89a6-225d1d7fa9e3",
   "metadata": {},
   "outputs": [
    {
     "data": {
      "text/plain": [
       "'1234'"
      ]
     },
     "execution_count": 3,
     "metadata": {},
     "output_type": "execute_result"
    }
   ],
   "source": [
    "sbi.get_pin()"
   ]
  },
  {
   "cell_type": "code",
   "execution_count": 4,
   "id": "d9c9078c-d879-4dfc-901a-f519a1ae8b3b",
   "metadata": {},
   "outputs": [
    {
     "ename": "TypeError",
     "evalue": "Atm.set_pin() missing 1 required positional argument: 'new_pin'",
     "output_type": "error",
     "traceback": [
      "\u001b[0;31m---------------------------------------------------------------------------\u001b[0m",
      "\u001b[0;31mTypeError\u001b[0m                                 Traceback (most recent call last)",
      "Cell \u001b[0;32mIn [4], line 1\u001b[0m\n\u001b[0;32m----> 1\u001b[0m \u001b[43msbi\u001b[49m\u001b[38;5;241;43m.\u001b[39;49m\u001b[43mset_pin\u001b[49m\u001b[43m(\u001b[49m\u001b[43m)\u001b[49m\n",
      "\u001b[0;31mTypeError\u001b[0m: Atm.set_pin() missing 1 required positional argument: 'new_pin'"
     ]
    }
   ],
   "source": [
    "sbi.set_pin()"
   ]
  },
  {
   "cell_type": "code",
   "execution_count": 5,
   "id": "2e34ec16-6843-4aaf-84ab-8bbfc90bcdf5",
   "metadata": {},
   "outputs": [
    {
     "name": "stdout",
     "output_type": "stream",
     "text": [
      "Not allowed\n"
     ]
    }
   ],
   "source": [
    "sbi.set_pin(2345)"
   ]
  },
  {
   "cell_type": "code",
   "execution_count": 6,
   "id": "7b1d6fda-6279-495a-922f-ad3c6ab544cd",
   "metadata": {},
   "outputs": [
    {
     "name": "stdout",
     "output_type": "stream",
     "text": [
      "Pin changed\n"
     ]
    }
   ],
   "source": [
    "sbi.set_pin(\"2345\")"
   ]
  },
  {
   "cell_type": "code",
   "execution_count": 7,
   "id": "e17f71f1-2927-4f11-8000-307f6164b328",
   "metadata": {},
   "outputs": [
    {
     "data": {
      "text/plain": [
       "'2345'"
      ]
     },
     "execution_count": 7,
     "metadata": {},
     "output_type": "execute_result"
    }
   ],
   "source": [
    "sbi.get_pin()"
   ]
  },
  {
   "cell_type": "code",
   "execution_count": 8,
   "id": "896e7cf1-4df5-4350-b1d1-e3afd48602c4",
   "metadata": {},
   "outputs": [
    {
     "name": "stdout",
     "output_type": "stream",
     "text": [
      "Pin changed\n"
     ]
    }
   ],
   "source": [
    "sbi.set_pin(\"this is new pin\")"
   ]
  },
  {
   "cell_type": "code",
   "execution_count": 9,
   "id": "87631681-625e-4c2f-a6c1-2597a11f561a",
   "metadata": {},
   "outputs": [
    {
     "data": {
      "text/plain": [
       "'this is new pin'"
      ]
     },
     "execution_count": 9,
     "metadata": {},
     "output_type": "execute_result"
    }
   ],
   "source": [
    "sbi.get_pin()"
   ]
  },
  {
   "cell_type": "markdown",
   "id": "c2e05a0d-edcf-41a8-a5d8-99f2fb75c067",
   "metadata": {},
   "source": [
    "# ***Refrence variable***"
   ]
  },
  {
   "cell_type": "markdown",
   "id": "61d13db9-d6df-4f19-b9ad-605fd66ebcf1",
   "metadata": {},
   "source": [
    "- ***in simple :- object ko create karte wakt jis variable me store karte hain usko refrence variable kahte hai example ke liye sbi = Atm() so here Atm is object and sbi is refrence variable***"
   ]
  },
  {
   "cell_type": "markdown",
   "id": "a55e4642-68b9-44d5-af5a-91a5b688a2f5",
   "metadata": {},
   "source": [
    "***In computer programming, a reference variable is a type of variable that stores the memory address of another variable rather than the value itself. It provides a way to indirectly access and manipulate the data stored in the referenced variable.***"
   ]
  },
  {
   "cell_type": "code",
   "execution_count": 5,
   "id": "45bda296-8043-4fd3-91b9-dcbfa326366d",
   "metadata": {},
   "outputs": [
    {
     "name": "stdin",
     "output_type": "stream",
     "text": [
      " Hello, How would you like to proceed ?\n",
      "                               1.Enter 1 to create pin\n",
      "                               2.Enter 2 to deposite\n",
      "                               3.Enter 3 to withdraw \n",
      "                               4.Enter 4 to check balance \n",
      "                               5.Enter 5 to exit\n",
      " 1\n",
      "Enter your pin 2345\n"
     ]
    },
    {
     "name": "stdout",
     "output_type": "stream",
     "text": [
      "Pin set succesfully\n"
     ]
    },
    {
     "data": {
      "text/plain": [
       "<__main__.Atm at 0x7f659803e770>"
      ]
     },
     "execution_count": 5,
     "metadata": {},
     "output_type": "execute_result"
    }
   ],
   "source": [
    "Atm()"
   ]
  },
  {
   "cell_type": "markdown",
   "id": "b67a8457-89d6-4eb8-a1fe-0522e75266fa",
   "metadata": {},
   "source": [
    "- ***now you can't  use Atm() object because you can't store it in some variable***"
   ]
  },
  {
   "cell_type": "markdown",
   "id": "eb3a4f1f-97f9-4289-93f7-f27b65333ce4",
   "metadata": {},
   "source": [
    "- ***now see what we do***"
   ]
  },
  {
   "cell_type": "code",
   "execution_count": 7,
   "id": "3561da0d-0547-4128-9d67-d92697bed565",
   "metadata": {},
   "outputs": [
    {
     "name": "stdin",
     "output_type": "stream",
     "text": [
      " Hello, How would you like to proceed ?\n",
      "                               1.Enter 1 to create pin\n",
      "                               2.Enter 2 to deposite\n",
      "                               3.Enter 3 to withdraw \n",
      "                               4.Enter 4 to check balance \n",
      "                               5.Enter 5 to exit\n",
      " 1\n",
      "Enter your pin 1234\n"
     ]
    },
    {
     "name": "stdout",
     "output_type": "stream",
     "text": [
      "Pin set succesfully\n"
     ]
    }
   ],
   "source": [
    "sbi = Atm()"
   ]
  },
  {
   "cell_type": "markdown",
   "id": "5a875f76-b918-4e83-8628-b65b0ee9e06d",
   "metadata": {},
   "source": [
    "- ***here we can say that sbi is refrence variable***"
   ]
  },
  {
   "cell_type": "markdown",
   "id": "9a854acc-6919-4427-b81d-69d900b3f036",
   "metadata": {},
   "source": [
    "- ***In Python, reference variables are used to refer to objects. When you assign a value to a variable, you are creating an object and the variable becomes a reference to that object. Any variable that refers to the same object is considered a reference variable.***"
   ]
  },
  {
   "cell_type": "code",
   "execution_count": 8,
   "id": "875714f1-30f3-47f4-9679-09cb37098524",
   "metadata": {},
   "outputs": [
    {
     "name": "stdout",
     "output_type": "stream",
     "text": [
      "[1, 2, 3, 4]\n"
     ]
    }
   ],
   "source": [
    "# Create a list object\n",
    "my_list = [1, 2, 3]\n",
    "\n",
    "# Create a reference variable and assign it to my_list\n",
    "my_ref = my_list\n",
    "\n",
    "# Modify the list through the reference variable\n",
    "my_ref.append(4)\n",
    "\n",
    "# Access the list through the original variable\n",
    "print(my_list)  # Output: [1, 2, 3, 4]\n"
   ]
  },
  {
   "cell_type": "markdown",
   "id": "645422ec-a872-4362-9ad6-c0ce124dba65",
   "metadata": {},
   "source": [
    "In this example, my_list and my_ref are reference variables that refer to the same list object. Modifying the list through my_ref affects the underlying object, and accessing the list through my_list reflects the change.\n",
    "\n",
    "Reference variables in Python allow you to pass objects between functions, store objects in data structures, and perform operations on the same underlying object from different variables. When you assign a reference variable to another variable, both variables refer to the same object in memory.\n",
    "\n",
    "It's important to note that reference variables in Python behave differently for mutable and immutable objects. For mutable objects like lists, dictionaries, and sets, modifications made through one reference variable are visible through other reference variables that point to the same object. However, for immutable objects like numbers, strings, and tuples, any modifications create a new object, and the original object remains unchanged.\n",
    "\n",
    "In summary, reference variables in Python allow you to refer to and manipulate objects indirectly through multiple variables that point to the same object in memory."
   ]
  },
  {
   "cell_type": "markdown",
   "id": "4eb2cfc5-29ad-4e4d-b3a5-a5bfbd0a17fb",
   "metadata": {},
   "source": [
    "# Static method  @staticmethod"
   ]
  },
  {
   "cell_type": "code",
   "execution_count": 3,
   "id": "05988135-29fb-412a-a781-0c07ff58ad06",
   "metadata": {},
   "outputs": [],
   "source": [
    "class Atm: \n",
    "    \n",
    "    counter = 1               #static/class  variable hamesha consturctor ke bahar hi rhega\n",
    "    \n",
    "    def __init__(self):       #Constructor function \n",
    "        self.__pin = \"\"\n",
    "        self.__balance = 0\n",
    "        \n",
    "        self.srno = Atm.counter   #static method ko self se nhi balki class ke name se call karte hain (Atm) \n",
    "        Atm.counter+=1\n",
    "        \n",
    "        print(id(self))\n",
    "        # self.menu()\n",
    "        \n",
    "        \n",
    "    def get_pin(self):\n",
    "        return self.__pin\n",
    "    \n",
    "    def set_pin(self, new_pin):\n",
    "        if type(new_pin) == str:\n",
    "            self.__pin = new_pin\n",
    "            print(\"Pin changed\")\n",
    "\n",
    "        else:\n",
    "            print(\"Not allowed\")\n",
    "        \n",
    "    def menu(self):\n",
    "        user_input = input(''' Hello, How would you like to proceed ?\n",
    "                               1.Enter 1 to create pin\n",
    "                               2.Enter 2 to deposite\n",
    "                               3.Enter 3 to withdraw \n",
    "                               4.Enter 4 to check balance \n",
    "                               5.Enter 5 to exit\n",
    "''')\n",
    "        \n",
    "        if user_input == \"1\":\n",
    "            self.create_pin()\n",
    "        elif user_input == \"2\":\n",
    "            self.deposite()\n",
    "        elif user_input == \"3\":\n",
    "            self.withdraw()\n",
    "        elif user_input == \"4\":\n",
    "            self.check_balance()\n",
    "        elif user_input == \"5\":\n",
    "            print(\"exit\")\n",
    "        \n",
    "   \n",
    "    def create_pin(self):\n",
    "        self.__pin = input(\"Enter your pin\")\n",
    "        print(\"Pin set succesfully\")\n",
    "        \n",
    "    def deposite(self):\n",
    "        temp = input(\"Enter your pin\")\n",
    "        if temp == self.__pin :\n",
    "            amount = int(input(\"Enter your amount\"))\n",
    "            self.__balance += amount\n",
    "            print(\"credited succesfully\")\n",
    "        else:\n",
    "            print(\"Invalid Pin\")\n",
    "            \n",
    "            \n",
    "    def withdraw(self):\n",
    "        temp = input(\"Enter your pin\")\n",
    "        if temp == self.__pin:\n",
    "            amount = int(input(\"Enter your amount\"))\n",
    "            if amount <= self.__balance:\n",
    "                self.__balance -= amount\n",
    "                print(\"withdrawal succesfully\")\n",
    "            else :\n",
    "                print(\"Insufficient fund\")\n",
    "        else :\n",
    "            print(\"Invalid Pin\")\n",
    "                \n",
    "    def check_balance(self):\n",
    "        temp = input(\"Enter your pin\")\n",
    "        if temp == self.__pin:\n",
    "            print(self.__balance)\n",
    "        else:\n",
    "            print(\"Invalid Pin\")\n",
    "              "
   ]
  },
  {
   "cell_type": "code",
   "execution_count": 4,
   "id": "6062c247-d8e6-43fc-bf30-8e46df504a63",
   "metadata": {},
   "outputs": [
    {
     "name": "stdout",
     "output_type": "stream",
     "text": [
      "140450225620784\n"
     ]
    }
   ],
   "source": [
    "c1 = Atm()"
   ]
  },
  {
   "cell_type": "code",
   "execution_count": 5,
   "id": "4986274e-63cc-4589-8f9b-6489312125a1",
   "metadata": {},
   "outputs": [
    {
     "name": "stdout",
     "output_type": "stream",
     "text": [
      "140450225633024\n"
     ]
    }
   ],
   "source": [
    "c2 = Atm()"
   ]
  },
  {
   "cell_type": "code",
   "execution_count": 6,
   "id": "2ce2149b-1fd9-44dc-af34-439b4b5740ea",
   "metadata": {},
   "outputs": [
    {
     "name": "stdout",
     "output_type": "stream",
     "text": [
      "140450225634848\n"
     ]
    }
   ],
   "source": [
    "c3 = Atm()"
   ]
  },
  {
   "cell_type": "code",
   "execution_count": 7,
   "id": "00f25730-a198-4160-8a45-ad52645e34c7",
   "metadata": {},
   "outputs": [
    {
     "data": {
      "text/plain": [
       "1"
      ]
     },
     "execution_count": 7,
     "metadata": {},
     "output_type": "execute_result"
    }
   ],
   "source": [
    "c1.srno"
   ]
  },
  {
   "cell_type": "code",
   "execution_count": 8,
   "id": "ef37c069-13d9-4e42-ad95-696ee602988c",
   "metadata": {},
   "outputs": [
    {
     "data": {
      "text/plain": [
       "2"
      ]
     },
     "execution_count": 8,
     "metadata": {},
     "output_type": "execute_result"
    }
   ],
   "source": [
    "c2.srno"
   ]
  },
  {
   "cell_type": "code",
   "execution_count": 9,
   "id": "7e40f8cb-e589-4f7a-94c3-1db72290ed74",
   "metadata": {},
   "outputs": [
    {
     "data": {
      "text/plain": [
       "3"
      ]
     },
     "execution_count": 9,
     "metadata": {},
     "output_type": "execute_result"
    }
   ],
   "source": [
    "c3.srno"
   ]
  },
  {
   "cell_type": "code",
   "execution_count": 10,
   "id": "55eb0ed7-1ac6-4d37-9c4d-deeaada0aab8",
   "metadata": {},
   "outputs": [
    {
     "data": {
      "text/plain": [
       "4"
      ]
     },
     "execution_count": 10,
     "metadata": {},
     "output_type": "execute_result"
    }
   ],
   "source": [
    "Atm.counter"
   ]
  },
  {
   "cell_type": "code",
   "execution_count": 17,
   "id": "7386ae48-1beb-47da-b1ee-178d4460f7ea",
   "metadata": {},
   "outputs": [],
   "source": [
    "class Atm: \n",
    "    \n",
    "    counter = 1               #static/class  variable hamesha consturctor ke bahar hi rhega\n",
    "    \n",
    "    def __init__(self):       #Constructor function \n",
    "        self.__pin = \"\"\n",
    "        self.__balance = 0\n",
    "        \n",
    "        self.srno = Atm.counter   #static method ko self se nhi balki class ke name se call karte hain (Atm) \n",
    "        Atm.counter+=1\n",
    "        \n",
    "        print(id(self))\n",
    "        # self.menu()\n",
    "        \n",
    "        \n",
    "    def get_pin(self):\n",
    "        return self.__pin\n",
    "    \n",
    "    def set_pin(self, new_pin):\n",
    "        if type(new_pin) == str:\n",
    "            self.__pin = new_pin\n",
    "            print(\"Pin changed\")\n",
    "\n",
    "        else:\n",
    "            print(\"Not allowed\")\n",
    "        \n",
    "    def menu(self):\n",
    "        user_input = input(''' Hello, How would you like to proceed ?\n",
    "                               1.Enter 1 to create pin\n",
    "                               2.Enter 2 to deposite\n",
    "                               3.Enter 3 to withdraw \n",
    "                               4.Enter 4 to check balance \n",
    "                               5.Enter 5 to exit\n",
    "''')\n",
    "        \n",
    "        if user_input == \"1\":\n",
    "            self.create_pin()\n",
    "        elif user_input == \"2\":\n",
    "            self.deposite()\n",
    "        elif user_input == \"3\":\n",
    "            self.withdraw()\n",
    "        elif user_input == \"4\":\n",
    "            self.check_balance()\n",
    "        elif user_input == \"5\":\n",
    "            print(\"exit\")\n",
    "        \n",
    "   \n",
    "    def create_pin(self):\n",
    "        self.__pin = input(\"Enter your pin\")\n",
    "        print(\"Pin set succesfully\")\n",
    "        \n",
    "    def deposite(self):\n",
    "        temp = input(\"Enter your pin\")\n",
    "        if temp == self.__pin :\n",
    "            amount = int(input(\"Enter your amount\"))\n",
    "            self.__balance += amount\n",
    "            print(\"credited succesfully\")\n",
    "        else:\n",
    "            print(\"Invalid Pin\")\n",
    "            \n",
    "            \n",
    "    def withdraw(self):\n",
    "        temp = input(\"Enter your pin\")\n",
    "        if temp == self.__pin:\n",
    "            amount = int(input(\"Enter your amount\"))\n",
    "            if amount <= self.__balance:\n",
    "                self.__balance -= amount\n",
    "                print(\"withdrawal succesfully\")\n",
    "            else :\n",
    "                print(\"Insufficient fund\")\n",
    "        else :\n",
    "            print(\"Invalid Pin\")\n",
    "                \n",
    "    def check_balance(self):\n",
    "        temp = input(\"Enter your pin\")\n",
    "        if temp == self.__pin:\n",
    "            print(self.__balance)\n",
    "        else:\n",
    "            print(\"Invalid Pin\")\n",
    "              "
   ]
  },
  {
   "cell_type": "code",
   "execution_count": 18,
   "id": "c20b38fd-faf5-4368-88c0-2077be4517de",
   "metadata": {},
   "outputs": [
    {
     "data": {
      "text/plain": [
       "1"
      ]
     },
     "execution_count": 18,
     "metadata": {},
     "output_type": "execute_result"
    }
   ],
   "source": [
    "Atm.counter"
   ]
  },
  {
   "cell_type": "code",
   "execution_count": 19,
   "id": "e159f020-3cc5-41b4-b5cf-7fdb4a5704aa",
   "metadata": {},
   "outputs": [],
   "source": [
    "Atm.counter = \"sgdsfghsdh\""
   ]
  },
  {
   "cell_type": "code",
   "execution_count": 20,
   "id": "ddac15ac-7139-457d-ad15-3995d09d74da",
   "metadata": {},
   "outputs": [
    {
     "ename": "TypeError",
     "evalue": "can only concatenate str (not \"int\") to str",
     "output_type": "error",
     "traceback": [
      "\u001b[0;31m---------------------------------------------------------------------------\u001b[0m",
      "\u001b[0;31mTypeError\u001b[0m                                 Traceback (most recent call last)",
      "Cell \u001b[0;32mIn [20], line 1\u001b[0m\n\u001b[0;32m----> 1\u001b[0m c1 \u001b[38;5;241m=\u001b[39m \u001b[43mAtm\u001b[49m\u001b[43m(\u001b[49m\u001b[43m)\u001b[49m\n",
      "Cell \u001b[0;32mIn [17], line 10\u001b[0m, in \u001b[0;36mAtm.__init__\u001b[0;34m(self)\u001b[0m\n\u001b[1;32m      7\u001b[0m \u001b[38;5;28mself\u001b[39m\u001b[38;5;241m.\u001b[39m__balance \u001b[38;5;241m=\u001b[39m \u001b[38;5;241m0\u001b[39m\n\u001b[1;32m      9\u001b[0m \u001b[38;5;28mself\u001b[39m\u001b[38;5;241m.\u001b[39msrno \u001b[38;5;241m=\u001b[39m Atm\u001b[38;5;241m.\u001b[39mcounter   \u001b[38;5;66;03m#static method ko self se nhi balki class ke name se call karte hain (Atm) \u001b[39;00m\n\u001b[0;32m---> 10\u001b[0m Atm\u001b[38;5;241m.\u001b[39mcounter\u001b[38;5;241m+\u001b[39m\u001b[38;5;241m=\u001b[39m\u001b[38;5;241m1\u001b[39m\n\u001b[1;32m     12\u001b[0m \u001b[38;5;28mprint\u001b[39m(\u001b[38;5;28mid\u001b[39m(\u001b[38;5;28mself\u001b[39m))\n",
      "\u001b[0;31mTypeError\u001b[0m: can only concatenate str (not \"int\") to str"
     ]
    }
   ],
   "source": [
    "c1 = Atm()"
   ]
  },
  {
   "cell_type": "code",
   "execution_count": 21,
   "id": "f8c1e4d4-e8ad-45e2-bdac-5ceb0f43d405",
   "metadata": {},
   "outputs": [],
   "source": [
    "# now for this error we need to hide counter so juniour programmer can't change it "
   ]
  },
  {
   "cell_type": "code",
   "execution_count": 32,
   "id": "34fa579e-8dab-4614-9ae3-fcea723d43b5",
   "metadata": {},
   "outputs": [],
   "source": [
    "class Atm: \n",
    "    \n",
    "    __counter = 1               #static/class  variable hamesha consturctor ke bahar hi rhega\n",
    "    \n",
    "    def __init__(self):       #Constructor function \n",
    "        self.__pin = \"\"\n",
    "        self.__balance = 0\n",
    "        \n",
    "        self.srno = Atm.counter   #static method ko self se nhi balki class ke name se call karte hain (Atm) \n",
    "        Atm.__counter+=1    \n",
    "        \n",
    "        print(id(self))\n",
    "        \n",
    "        \n",
    "        #now we need to give access to the counter by get and set method\n",
    "    @staticmethod    \n",
    "    def get_counter():              #we don't need self here cuz we don't use it in our given method\n",
    "        return Atm.__counter\n",
    "    \n",
    "    @staticmethod\n",
    "    def set_counter(new):         #same here as well\n",
    "        if type(new) == int:\n",
    "            Atm.__counter = new \n",
    "        else:\n",
    "            print(\"Not allowed\")\n",
    "        \n",
    "        \n",
    "        # self.menu()\n",
    "        \n",
    "        \n",
    "    def get_pin(self):\n",
    "        return self.__pin\n",
    "    \n",
    "    def set_pin(self, new_pin):\n",
    "        if type(new_pin) == str:\n",
    "            self.__pin = new_pin\n",
    "            print(\"Pin changed\")\n",
    "\n",
    "        else:\n",
    "            print(\"Not allowed\")\n",
    "        \n",
    "    def menu(self):\n",
    "        user_input = input(''' Hello, How would you like to proceed ?\n",
    "                               1.Enter 1 to create pin\n",
    "                               2.Enter 2 to deposite\n",
    "                               3.Enter 3 to withdraw \n",
    "                               4.Enter 4 to check balance \n",
    "                               5.Enter 5 to exit\n",
    "''')\n",
    "        \n",
    "        if user_input == \"1\":\n",
    "            self.create_pin()\n",
    "        elif user_input == \"2\":\n",
    "            self.deposite()\n",
    "        elif user_input == \"3\":\n",
    "            self.withdraw()\n",
    "        elif user_input == \"4\":\n",
    "            self.check_balance()\n",
    "        elif user_input == \"5\":\n",
    "            print(\"exit\")\n",
    "        \n",
    "   \n",
    "    def create_pin(self):\n",
    "        self.__pin = input(\"Enter your pin\")\n",
    "        print(\"Pin set succesfully\")\n",
    "        \n",
    "    def deposite(self):\n",
    "        temp = input(\"Enter your pin\")\n",
    "        if temp == self.__pin :\n",
    "            amount = int(input(\"Enter your amount\"))\n",
    "            self.__balance += amount\n",
    "            print(\"credited succesfully\")\n",
    "        else:\n",
    "            print(\"Invalid Pin\")\n",
    "            \n",
    "            \n",
    "    def withdraw(self):\n",
    "        temp = input(\"Enter your pin\")\n",
    "        if temp == self.__pin:\n",
    "            amount = int(input(\"Enter your amount\"))\n",
    "            if amount <= self.__balance:\n",
    "                self.__balance -= amount\n",
    "                print(\"withdrawal succesfully\")\n",
    "            else :\n",
    "                print(\"Insufficient fund\")\n",
    "        else :\n",
    "            print(\"Invalid Pin\")\n",
    "                \n",
    "    def check_balance(self):\n",
    "        temp = input(\"Enter your pin\")\n",
    "        if temp == self.__pin:\n",
    "            print(self.__balance)\n",
    "        else:\n",
    "            print(\"Invalid Pin\")\n",
    "              "
   ]
  },
  {
   "cell_type": "code",
   "execution_count": 33,
   "id": "384ca339-7003-48b6-b0ef-f12ae33882f5",
   "metadata": {},
   "outputs": [
    {
     "data": {
      "text/plain": [
       "1"
      ]
     },
     "execution_count": 33,
     "metadata": {},
     "output_type": "execute_result"
    }
   ],
   "source": [
    "Atm.get_counter()"
   ]
  },
  {
   "cell_type": "code",
   "execution_count": 35,
   "id": "2b97bd35-2f3f-4337-a3da-db52a3418aea",
   "metadata": {},
   "outputs": [],
   "source": [
    "Atm.set_counter(5)"
   ]
  },
  {
   "cell_type": "code",
   "execution_count": 36,
   "id": "b1a40aa4-f1de-4bef-83a2-5e56a57fed7c",
   "metadata": {},
   "outputs": [
    {
     "data": {
      "text/plain": [
       "5"
      ]
     },
     "execution_count": 36,
     "metadata": {},
     "output_type": "execute_result"
    }
   ],
   "source": [
    "Atm.get_counter()"
   ]
  },
  {
   "cell_type": "markdown",
   "id": "b9190555-518d-49ac-a28c-d53c73d3f03a",
   "metadata": {},
   "source": [
    "# ***Aggregation*** "
   ]
  },
  {
   "cell_type": "code",
   "execution_count": 1,
   "id": "e0d856ca-8cdf-4ab3-8bdc-dc742e3c8c01",
   "metadata": {},
   "outputs": [],
   "source": [
    "class Customer:\n",
    "    \n",
    "    def __init__(self, name , gender , address):\n",
    "        self.name = name\n",
    "        self.gender = gender\n",
    "        self.address = address\n",
    "        \n",
    "    def edit_profile(self , new_name, new_city , new_pincode ,new_state):\n",
    "        self.name = new_name \n",
    "        self.address.change_address(new_city, new_pincode , new_state) \n",
    "    \n",
    "class address:\n",
    "    \n",
    "    def __init__(self , city , pincode , state):\n",
    "        self.city = city \n",
    "        self.pincode = pincode\n",
    "        self.state = state\n",
    "        \n",
    "    def change_address(self , new_city , new_pincode , new_state):\n",
    "        self.city = new_city\n",
    "        self.pincode = new_pincode \n",
    "        self.state = new_state\n",
    "        \n",
    "        \n",
    "        \n",
    "add = address(\"ahmedabad\" , \"388304\" , \"Gujarat\")\n",
    "cust = Customer(\"siddhant\" , \"male\" , add)\n",
    "\n",
    "\n",
    "    "
   ]
  },
  {
   "cell_type": "code",
   "execution_count": 2,
   "id": "a238f98a-c504-4404-b9e7-4cdb85462bad",
   "metadata": {},
   "outputs": [
    {
     "name": "stdout",
     "output_type": "stream",
     "text": [
      "<__main__.Customer object at 0x7f3538ebdd50>\n"
     ]
    }
   ],
   "source": [
    "print(cust)"
   ]
  },
  {
   "cell_type": "code",
   "execution_count": 3,
   "id": "9ae49cdb-1c31-4e58-a868-b83aa189820b",
   "metadata": {},
   "outputs": [
    {
     "name": "stdout",
     "output_type": "stream",
     "text": [
      "ahmedabad\n"
     ]
    }
   ],
   "source": [
    "print(cust.address.city)"
   ]
  },
  {
   "cell_type": "code",
   "execution_count": 4,
   "id": "998ff6c0-bd75-4f1d-a91e-3314044442ec",
   "metadata": {},
   "outputs": [
    {
     "name": "stdout",
     "output_type": "stream",
     "text": [
      "siddhant\n"
     ]
    }
   ],
   "source": [
    "print(cust.name)"
   ]
  },
  {
   "cell_type": "code",
   "execution_count": 6,
   "id": "79b88fbf-6c8c-4182-ba31-b781b8f382af",
   "metadata": {},
   "outputs": [],
   "source": [
    "cust.edit_profile(\"siddhu\" ,\"silicon valley\" , \"12345\" , \"california\")"
   ]
  },
  {
   "cell_type": "code",
   "execution_count": 7,
   "id": "917e386b-1115-4472-a8d5-08c7088e643e",
   "metadata": {},
   "outputs": [
    {
     "data": {
      "text/plain": [
       "'siddhu'"
      ]
     },
     "execution_count": 7,
     "metadata": {},
     "output_type": "execute_result"
    }
   ],
   "source": [
    "cust.name()"
   ]
  },
  {
   "cell_type": "markdown",
   "id": "6e9fb2de-6e15-45b2-b895-98b4b93bfd7c",
   "metadata": {},
   "source": [
    "# ***Inheritance***"
   ]
  },
  {
   "cell_type": "raw",
   "id": "f996ae10-3221-45cd-9255-4973e7803563",
   "metadata": {},
   "source": [
    "Everything already given in oops page but here are the some main points\n",
    "\n",
    "1. we can't inheritate private members like __double underscore\n",
    "\n",
    "2.child class parent class ka her cheez inheritate kar sakta hai expect private property but parent class child \n",
    "class ko inheritate nhi kar sakta\n",
    "\n",
    "3. class diagram me triangle shape ko inheritance se denote karenge or diamond shape ko aggregation"
   ]
  },
  {
   "cell_type": "code",
   "execution_count": 18,
   "id": "a45d2a7d-7dfb-4ed6-9408-60a9f6b07815",
   "metadata": {},
   "outputs": [],
   "source": [
    "class Users:               #this is parent class\n",
    "    \n",
    "    def login(self):\n",
    "        print(\"Login\")\n",
    "    \n",
    "    def registered(self):\n",
    "        print(\"registered\")\n",
    "        \n",
    "class Student(Users):  # this is child class here Users inheritate in Student\n",
    "    \n",
    "    def enroll(self):\n",
    "        print(\"Enroll\")\n",
    "        \n",
    "    def review(self):\n",
    "        print(\"review\")\n",
    "        \n",
    "        \n",
    "class Instructor(Users):\n",
    "    \n",
    "    def create(self):\n",
    "        print(\"create\")\n",
    "        \n",
    "    def answer(self):\n",
    "        print(\"answer\")\n",
    "        \n",
    "        \n"
   ]
  },
  {
   "cell_type": "code",
   "execution_count": 19,
   "id": "83d6be1c-c9c1-4fec-903c-b5a56b4529b2",
   "metadata": {},
   "outputs": [],
   "source": [
    "stu1 = Student()\n"
   ]
  },
  {
   "cell_type": "code",
   "execution_count": 21,
   "id": "99d3635c-8dff-4077-aedb-7890ac27e771",
   "metadata": {},
   "outputs": [
    {
     "name": "stdout",
     "output_type": "stream",
     "text": [
      "Login\n",
      "Enroll\n",
      "registered\n",
      "review\n"
     ]
    }
   ],
   "source": [
    "stu1.login()\n",
    "stu1.enroll()\n",
    "stu1.registered()\n",
    "stu1.review()"
   ]
  },
  {
   "cell_type": "code",
   "execution_count": 26,
   "id": "3bb733f9-2b41-4da8-94ef-77c2d4ad2aa9",
   "metadata": {},
   "outputs": [],
   "source": [
    "coach = Instructor()\n"
   ]
  },
  {
   "cell_type": "code",
   "execution_count": 27,
   "id": "4fa4d4f3-3d0f-4193-ab1a-c723a48a958a",
   "metadata": {},
   "outputs": [
    {
     "name": "stdout",
     "output_type": "stream",
     "text": [
      "answer\n",
      "create\n",
      "registered\n",
      "Login\n"
     ]
    }
   ],
   "source": [
    "coach.answer()\n",
    "coach.create()\n",
    "coach.registered()\n",
    "coach.login()"
   ]
  },
  {
   "cell_type": "markdown",
   "id": "7e39f61c-2d4e-49e0-bfbc-2fbfcfb9aa92",
   "metadata": {},
   "source": [
    "***here we can see we can access all methods of Users as well, when we call Student function***"
   ]
  },
  {
   "cell_type": "code",
   "execution_count": 22,
   "id": "3a406e87-43a2-45b5-9c8e-67048c44c7d2",
   "metadata": {},
   "outputs": [],
   "source": [
    "user = Users()"
   ]
  },
  {
   "cell_type": "code",
   "execution_count": 23,
   "id": "97940a17-ea2f-48c3-8319-6b09fca9fe33",
   "metadata": {},
   "outputs": [
    {
     "name": "stdout",
     "output_type": "stream",
     "text": [
      "Login\n",
      "registered\n"
     ]
    }
   ],
   "source": [
    "user.login()\n",
    "user.registered()\n"
   ]
  },
  {
   "cell_type": "code",
   "execution_count": 24,
   "id": "22ae4299-001e-447d-a76c-b59fda565429",
   "metadata": {},
   "outputs": [
    {
     "ename": "AttributeError",
     "evalue": "'Users' object has no attribute 'enroll'",
     "output_type": "error",
     "traceback": [
      "\u001b[0;31m---------------------------------------------------------------------------\u001b[0m",
      "\u001b[0;31mAttributeError\u001b[0m                            Traceback (most recent call last)",
      "Cell \u001b[0;32mIn [24], line 1\u001b[0m\n\u001b[0;32m----> 1\u001b[0m \u001b[43muser\u001b[49m\u001b[38;5;241;43m.\u001b[39;49m\u001b[43menroll\u001b[49m()\n",
      "\u001b[0;31mAttributeError\u001b[0m: 'Users' object has no attribute 'enroll'"
     ]
    }
   ],
   "source": [
    "user.enroll()"
   ]
  },
  {
   "cell_type": "markdown",
   "id": "360b7e02-f0cf-4c48-8060-e2b00ff7b69d",
   "metadata": {},
   "source": [
    "- ***here we can see that user can't inheritate enroll method of student class cuz this is child class***"
   ]
  },
  {
   "cell_type": "markdown",
   "id": "85013863-990a-42f0-9760-2bf7a10d6b42",
   "metadata": {},
   "source": [
    "# study concept of polymorphism\n",
    "\n",
    "1.Method overridding\n",
    "\n",
    "2.Method overloading\n",
    "\n",
    "3.oprator overloading"
   ]
  },
  {
   "cell_type": "markdown",
   "id": "682e3d42-692e-40c6-ae7f-0468d75928f9",
   "metadata": {},
   "source": [
    "1.Method overridding :- Method overriding is a feature of object-oriented programming that allows a subclass to provide its own implementation of a method that is already defined in its superclass. This allows the subclass to modify or extend the behavior of the inherited method. Method overriding is a form of runtime polymorphism.\n",
    "\n",
    "In Python, method overriding is achieved by defining a method with the same name in the subclass as the one in the superclass. When an object of the subclass invokes the overridden method, the implementation in the subclass is executed instead of the superclass implementation.\n",
    "\n",
    "Here's an example to demonstrate method overriding in Python:\n"
   ]
  },
  {
   "cell_type": "code",
   "execution_count": 29,
   "id": "b5bfb7bd-e19f-413f-8ea8-fdf6efff6c53",
   "metadata": {},
   "outputs": [
    {
     "name": "stdout",
     "output_type": "stream",
     "text": [
      "Car engine started.\n",
      "Motorcycle engine started.\n"
     ]
    }
   ],
   "source": [
    "class Vehicle:\n",
    "    def start_engine(self):\n",
    "        print(\"Engine started.\")\n",
    "\n",
    "class Car(Vehicle):\n",
    "    def start_engine(self):\n",
    "        print(\"Car engine started.\")\n",
    "\n",
    "class Motorcycle(Vehicle):\n",
    "    def start_engine(self):\n",
    "        print(\"Motorcycle engine started.\")\n",
    "\n",
    "car = Car()\n",
    "car.start_engine()  # Output: Car engine started.\n",
    "\n",
    "motorcycle = Motorcycle()\n",
    "motorcycle.start_engine()  # Output: Motorcycle engine started.\n"
   ]
  },
  {
   "cell_type": "markdown",
   "id": "05da5511-99ea-412c-8bac-438b0b9adc0a",
   "metadata": {},
   "source": [
    "- ***in simple agr superclass and subclass me same name ke methods honge or vo bhale hi superclass ko inheritate \n",
    "kar rha ho lekin jb ham us subclass ke object me method ko call karenge toh vo subclass ke hi method ko considered karega like in above eg of Car and Motercycle***"
   ]
  },
  {
   "cell_type": "markdown",
   "id": "385fe29d-2cc9-4273-bc4a-2051a4cf4eab",
   "metadata": {},
   "source": [
    "# ***super() key word*** "
   ]
  },
  {
   "cell_type": "markdown",
   "id": "01e5a016-e7a4-42b5-bb44-decae2bd51cc",
   "metadata": {},
   "source": [
    "***In Python, the super() function is used to access and invoke methods or attributes from a superclass (or parent class) within a subclass (or child class). It allows you to call the superclass implementation of a method, even if the method has been overridden in the subclass.***"
   ]
  },
  {
   "cell_type": "code",
   "execution_count": 36,
   "id": "e22f00b8-8f48-4689-885f-5ae324ea0a69",
   "metadata": {},
   "outputs": [
    {
     "name": "stdout",
     "output_type": "stream",
     "text": [
      "Engine started.\n",
      "Car engine started.\n",
      "\n",
      "Engine started.\n",
      "Motorcycle engine started.\n"
     ]
    }
   ],
   "source": [
    "class Vehicle:\n",
    "    def start_engine(self):\n",
    "        print(\"Engine started.\")\n",
    "\n",
    "class Car(Vehicle):\n",
    "    def start_engine(self):\n",
    "        super().start_engine()  # Calling the superclass method\n",
    "        print(\"Car engine started.\") \n",
    "\n",
    "class Motorcycle(Vehicle):\n",
    "    def start_engine(self):\n",
    "        super().start_engine()  # Calling the superclass method\n",
    "        print(\"Motorcycle engine started.\")\n",
    "\n",
    "car = Car()\n",
    "car.start_engine()\n",
    "# Output:\n",
    "# Engine started.\n",
    "# Car engine started.\n",
    "\n",
    "print() #Adding line break it will create an empty line \n",
    "\n",
    "motorcycle = Motorcycle()\n",
    "motorcycle.start_engine()\n",
    "# Output:\n",
    "# Engine started.\n",
    "# Motorcycle engine started.\n"
   ]
  },
  {
   "cell_type": "markdown",
   "id": "3bd241d2-f6c7-46db-a50e-b36cdfc9e80f",
   "metadata": {},
   "source": [
    "- ***we can't use super() keyword outside of the class***"
   ]
  },
  {
   "cell_type": "code",
   "execution_count": null,
   "id": "2af60dec-527e-4d86-b40f-7badbdd0b18f",
   "metadata": {},
   "outputs": [],
   "source": []
  }
 ],
 "metadata": {
  "kernelspec": {
   "display_name": "Python 3 (ipykernel)",
   "language": "python",
   "name": "python3"
  },
  "language_info": {
   "codemirror_mode": {
    "name": "ipython",
    "version": 3
   },
   "file_extension": ".py",
   "mimetype": "text/x-python",
   "name": "python",
   "nbconvert_exporter": "python",
   "pygments_lexer": "ipython3",
   "version": "3.10.6"
  }
 },
 "nbformat": 4,
 "nbformat_minor": 5
}
